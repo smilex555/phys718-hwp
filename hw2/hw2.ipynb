{
 "cells": [
  {
   "cell_type": "markdown",
   "metadata": {
    "nbgrader": {
     "grade": false,
     "grade_id": "cell-515e01b25bda86a9",
     "locked": true,
     "schema_version": 3,
     "solution": false,
     "task": false
    }
   },
   "source": [
    "# Exercises and Homework for week 2"
   ]
  },
  {
   "cell_type": "markdown",
   "metadata": {},
   "source": [
    "**Your group number here please:**  Group 02"
   ]
  },
  {
   "cell_type": "markdown",
   "metadata": {},
   "source": [
    "Ajay, Areti & Vlera"
   ]
  },
  {
   "cell_type": "markdown",
   "metadata": {},
   "source": [
    "# 1. Lecture Review (0 points)"
   ]
  },
  {
   "cell_type": "markdown",
   "metadata": {},
   "source": [
    "If you did the lecture review questions [04_Lecture_Review.ipynb](04_Lecture_Review.ipynb) (strongly recommended!): \n",
    "Please discuss with your tutor and your group any issues/problems you had with them."
   ]
  },
  {
   "cell_type": "markdown",
   "metadata": {},
   "source": [
    "**N/A**"
   ]
  },
  {
   "cell_type": "markdown",
   "metadata": {
    "tags": []
   },
   "source": [
    "# 2. Machine epsilon (5 points)\n",
    "In class we talked about inaccuracies that occur in a computer when performing operations with floating-point numbers. An important value to quantify floating-point accuracy is the *machine epsilon*. Please have a look at the [Wikipedia article on the machine epsilon](https://en.wikipedia.org/wiki/Machine_epsilon) to learn more about it. \n",
    "\n",
    "The *machine epsilon* is defined as the smallest number $\\epsilon_m$ such that $1.0 + \\epsilon_m > 1.0$. According to the Wikipedia article, the machine epsilon of your programming language can be estimated up to a factor of two with the algorithm:\n",
    "\n",
    "```\n",
    "epsilon_m = 1.0;\n",
    "\n",
    "while (1.0 + 0.5 * epsilon_m) > 1.0:\n",
    "    epsilon_m = 0.5 * epsilon_m\n",
    "\n",
    "```\n",
    "Use this algorithm to determine the *machine epsilon* of the Python-float type. Which float-type is used in Python (see the table of the Wikipedia article)?"
   ]
  },
  {
   "cell_type": "code",
   "execution_count": 1,
   "metadata": {},
   "outputs": [
    {
     "name": "stdout",
     "output_type": "stream",
     "text": [
      "epsilon =  2.220446049250313e-16\n",
      "Note: The above value is up to a factor of two\n"
     ]
    }
   ],
   "source": [
    "#problem 2\n",
    "epsilon_m = 1.0;\n",
    "\n",
    "while (1.0 + 0.5 * epsilon_m) > 1.0:\n",
    "    epsilon_m = 0.5 * epsilon_m\n",
    "    \n",
    "print ('epsilon = ', epsilon_m)\n",
    "print (\"Note: The above value is up to a factor of two\")\n"
   ]
  },
  {
   "cell_type": "markdown",
   "metadata": {},
   "source": [
    "Python uses double-precision floating-point (binary 64). This gives significant decimal digits precision of $ 2 ^{-53} \\approx 1.1 \\times 10^{-16} $"
   ]
  },
  {
   "cell_type": "markdown",
   "metadata": {},
   "source": [
    "# 3. Test of natural numbers for the prime property (10 points)"
   ]
  },
  {
   "cell_type": "markdown",
   "metadata": {},
   "source": [
    "In the following, we want to develop a program to test positive integer numbers for the prime property. A positive integer larger than 1 is a prime if it cannot be formed by multiplying two smaller natural numbers. \n",
    "\n",
    "The student Lydia Leibnitz proposes the following algorithm for the task:\n",
    "1. We are given a natural number $n$ that we want to test\n",
    "2. In a loop, we test whether `n % m == 0` for all natural numbers $m$ with $2\\leq m < \\sqrt{n}$\n",
    "3. If the test (2) is `True` for any of the tested $m$, then $n$ is not prime. Otherwise, we have a prime number.\n",
    "\n",
    "Lydia gives the following proof for the correctness of her algorithm:\n",
    "Divisors of $n$ come in pairs and say $n = ab$. Then **exactly one** of the two follwing possibilities can be true:\n",
    "1. $a < \\sqrt{n} \\text{ and } b > \\sqrt{n}$\n",
    "2. $a > \\sqrt{n} \\text{ and } b < \\sqrt{n}$\n",
    "\n",
    "To see this, we assume $a< \\sqrt{n} \\text{ and } b < \\sqrt{n}$. Then follows $n = ab < \\sqrt{n}\\sqrt{n} < n$ which leads to the contradiction $n<n$! Similarily, we conclude that not both, $a$ and $b$ can be larger than $\\sqrt{n}$. It follows that one of the divisors of $n$ must be smaller than $\\sqrt{n}$ and we only need to test $2\\leq m < \\sqrt{n}$ to check whether $n$ is a prime.\n",
    "\n",
    "Your tasks:\n",
    "1. Implement Lydias algorithm to test a given number $n$ for the prime property. Your program should report with a text-message, which number is tested and whether it is a prime or not.\n",
    "2. Test your program with the numbers 8, 105, 177, 51, 5, 47, 199 and 967. Your program should report the last four numbers as primes and the others as non-prime.\n",
    "3. Embed your test in a loop and consider systematically all numbers $2\\leq n \\leq 100$ for the prime property. What do you observe?\n",
    "4. (3.) should show you that your program does not work as expected! Find the underlying algorithmic problem and correct your program! Document within your notebook or script what the problem is!\n",
    "\n",
    "**Hint:** In the past, many students *did not find any problem* with their implemented algorithm. In that case, your first issue is that you did not implement *exactly* the algorithm described above."
   ]
  },
  {
   "cell_type": "code",
   "execution_count": 3,
   "metadata": {
    "tags": []
   },
   "outputs": [],
   "source": [
    "#required functions\n",
    "import math\n",
    "\n",
    "#in the problem statement, it is given that we are given a natural number. Therefore we don't have to check whether the number is natural\n",
    "def prime(n):\n",
    "    m = 2\n",
    "    while m < math.sqrt(n):\n",
    "        if not n%m:\n",
    "            print(n, \"is not a prime number\")\n",
    "            return\n",
    "        m+=1\n",
    "    print(n, \"is a prime number\")\n",
    "    return\n",
    "\n",
    "def primer(n):\n",
    "    for m in range(2, math.floor(math.sqrt(n))+1):\n",
    "        if not n%m: \n",
    "            print(n, \"is not a prime number\")\n",
    "            return\n",
    "    print(n, \"is a prime number\")\n",
    "    return"
   ]
  },
  {
   "cell_type": "markdown",
   "metadata": {},
   "source": [
    "**Execute the cell below with the desired natural number to run a primality test.** As an example, 13 has been used.  \n",
    "(Please run the above cell first, it contains the definition of the functions used:))"
   ]
  },
  {
   "cell_type": "code",
   "execution_count": 4,
   "metadata": {},
   "outputs": [
    {
     "name": "stdout",
     "output_type": "stream",
     "text": [
      "13 is a prime number\n"
     ]
    }
   ],
   "source": [
    "#problem 3.1\n",
    "prime(13)"
   ]
  },
  {
   "cell_type": "code",
   "execution_count": 5,
   "metadata": {},
   "outputs": [
    {
     "name": "stdout",
     "output_type": "stream",
     "text": [
      "8 is not a prime number\n",
      "105 is not a prime number\n",
      "177 is not a prime number\n",
      "51 is not a prime number\n",
      "5 is a prime number\n",
      "47 is a prime number\n",
      "199 is a prime number\n",
      "967 is a prime number\n"
     ]
    }
   ],
   "source": [
    "#problem 3.2\n",
    "prime(8)\n",
    "prime(105)\n",
    "prime(177)\n",
    "prime(51)\n",
    "prime(5)\n",
    "prime(47)\n",
    "prime(199)\n",
    "prime(967)"
   ]
  },
  {
   "cell_type": "code",
   "execution_count": 6,
   "metadata": {},
   "outputs": [
    {
     "name": "stdout",
     "output_type": "stream",
     "text": [
      "2 is a prime number\n",
      "3 is a prime number\n",
      "4 is a prime number\n",
      "5 is a prime number\n",
      "6 is not a prime number\n",
      "7 is a prime number\n",
      "8 is not a prime number\n",
      "9 is a prime number\n",
      "10 is not a prime number\n",
      "11 is a prime number\n",
      "12 is not a prime number\n",
      "13 is a prime number\n",
      "14 is not a prime number\n",
      "15 is not a prime number\n",
      "16 is not a prime number\n",
      "17 is a prime number\n",
      "18 is not a prime number\n",
      "19 is a prime number\n",
      "20 is not a prime number\n",
      "21 is not a prime number\n",
      "22 is not a prime number\n",
      "23 is a prime number\n",
      "24 is not a prime number\n",
      "25 is a prime number\n",
      "26 is not a prime number\n",
      "27 is not a prime number\n",
      "28 is not a prime number\n",
      "29 is a prime number\n",
      "30 is not a prime number\n",
      "31 is a prime number\n",
      "32 is not a prime number\n",
      "33 is not a prime number\n",
      "34 is not a prime number\n",
      "35 is not a prime number\n",
      "36 is not a prime number\n",
      "37 is a prime number\n",
      "38 is not a prime number\n",
      "39 is not a prime number\n",
      "40 is not a prime number\n",
      "41 is a prime number\n",
      "42 is not a prime number\n",
      "43 is a prime number\n",
      "44 is not a prime number\n",
      "45 is not a prime number\n",
      "46 is not a prime number\n",
      "47 is a prime number\n",
      "48 is not a prime number\n",
      "49 is a prime number\n",
      "50 is not a prime number\n",
      "51 is not a prime number\n",
      "52 is not a prime number\n",
      "53 is a prime number\n",
      "54 is not a prime number\n",
      "55 is not a prime number\n",
      "56 is not a prime number\n",
      "57 is not a prime number\n",
      "58 is not a prime number\n",
      "59 is a prime number\n",
      "60 is not a prime number\n",
      "61 is a prime number\n",
      "62 is not a prime number\n",
      "63 is not a prime number\n",
      "64 is not a prime number\n",
      "65 is not a prime number\n",
      "66 is not a prime number\n",
      "67 is a prime number\n",
      "68 is not a prime number\n",
      "69 is not a prime number\n",
      "70 is not a prime number\n",
      "71 is a prime number\n",
      "72 is not a prime number\n",
      "73 is a prime number\n",
      "74 is not a prime number\n",
      "75 is not a prime number\n",
      "76 is not a prime number\n",
      "77 is not a prime number\n",
      "78 is not a prime number\n",
      "79 is a prime number\n",
      "80 is not a prime number\n",
      "81 is not a prime number\n",
      "82 is not a prime number\n",
      "83 is a prime number\n",
      "84 is not a prime number\n",
      "85 is not a prime number\n",
      "86 is not a prime number\n",
      "87 is not a prime number\n",
      "88 is not a prime number\n",
      "89 is a prime number\n",
      "90 is not a prime number\n",
      "91 is not a prime number\n",
      "92 is not a prime number\n",
      "93 is not a prime number\n",
      "94 is not a prime number\n",
      "95 is not a prime number\n",
      "96 is not a prime number\n",
      "97 is a prime number\n",
      "98 is not a prime number\n",
      "99 is not a prime number\n",
      "100 is not a prime number\n"
     ]
    }
   ],
   "source": [
    "#problem 3.3\n",
    "for i in range(2,101):\n",
    "    prime(i)"
   ]
  },
  {
   "cell_type": "markdown",
   "metadata": {},
   "source": [
    "\\#problem 3.4  \n",
    "As we can see from the above cell, the numbers 4, 9, 25, 49 are marked as prime, whereas they are NOT!  \n",
    "This is because our algorithm omits the case where $a = \\sqrt{n}; b = \\sqrt{n}$. This would still solve $a \\cdot b = n$, given such integers $a, b$ exist. This implies that our algorithm WOULD fail for (some) squares.  \n",
    "For example, consider the case $n=25$. This is clearly not prime as $25 = 5 \\times 5$. But our code checks only until $m = 4$, none of which divide $25$. We don't face this issue when we test the primality of squares that are not a square of a prime number, e.g., $n = 81$.  \n",
    "**Therefore, our algorithm fails whenever we test the primality of a number that is a square of a prime.**  \n",
    "  \n",
    "To overcome this problem, we can test for $m \\leq \\sqrt{n}$ instead of $m < \\sqrt{n}$. This is implemented in the function `primer()`. A few examples are given below."
   ]
  },
  {
   "cell_type": "code",
   "execution_count": 49,
   "metadata": {},
   "outputs": [
    {
     "name": "stdout",
     "output_type": "stream",
     "text": [
      "8 is not a prime number\n",
      "13 is a prime number\n",
      "25 is not a prime number\n"
     ]
    }
   ],
   "source": [
    "primer(8)\n",
    "primer(13)\n",
    "primer(25)"
   ]
  },
  {
   "cell_type": "markdown",
   "metadata": {},
   "source": [
    "One more issue that might arise has to do with the precision of floting-point values. To overcome this, we can replace the requirement $m \\leq \\sqrt{n}$ with $m \\cdot m \\leq n$, at the expense of computational time."
   ]
  },
  {
   "cell_type": "markdown",
   "metadata": {
    "nbgrader": {
     "grade": false,
     "grade_id": "cell-5c20b7824c889804",
     "locked": true,
     "schema_version": 3,
     "solution": false,
     "task": false
    }
   },
   "source": [
    "# 4. Problems with an integral series (15 points)"
   ]
  },
  {
   "cell_type": "markdown",
   "metadata": {
    "nbgrader": {
     "grade": false,
     "grade_id": "cell-637b4ff9e037754d",
     "locked": true,
     "schema_version": 3,
     "solution": false,
     "task": false
    }
   },
   "source": [
    "Consider the sequence\n",
    "$$\n",
    "I_n=\\int_0^1 \\frac{x^{n}}{x+10}\\,\\mathrm{d}x; \\qquad n=1,2,\\dots\n",
    "$$\n",
    "We observe that\n",
    "\\begin{equation}\n",
    "I_n + 10I_{n-1} = \\int_0^1 \\frac{x^{n}+10x^{n-1}}{x+10}\\,\\mathrm{d}x =\n",
    "\\int_0^1 x^{n-1}\\,\\mathrm{d}x = \\frac 1n \\label{eq1}\\tag{1}\n",
    "\\end{equation}\n",
    "resulting in\n",
    "\\begin{equation}\n",
    "I_n = \\frac 1n - 10I_{n-1} \\text{ and } \n",
    "I_0 = \\int_0^1 \\frac{1}{x+10}\\,\\mathrm{d}x = \\ln(11/10)\\approx 0.09531. \\label{eq2}\\tag{2}\n",
    "\\end{equation}\n",
    "One can show that the sequence converges to zero: $\\lim_{n\\to\\infty}I_n=0$. \n",
    "\n",
    "We want to numerically estimate $I_{20}$ by using eqs. \\ref{eq1} and \\ref{eq2}. We can caluclulate and print the first 20 elements of the series in a `while`-loop. \n",
    "\n",
    "There is a second, independent estimate of $I_{20}$ if we revert the first relation from eq. \\ref{eq2}:\n",
    "\\begin{equation}\n",
    "  I_{n-1} = \\frac 1{10}\\left(\\frac 1n -I_{n}\\right) \\text{ with } I_{50} = 0.\\label{eq3}\\tag{3}\n",
    "\\end{equation}\n",
    "This relation allows us to calculate the elements $I_{50}, I_{49}, \\dots, I_{20}$.\n",
    "\n",
    "**Your tasks:**\n",
    "\n",
    "Perform the two experiments with the forward and the reverse relation in the cells below and argue which one of the results you trust. Please explain your observations.\n",
    "\n",
    "**Hints:** \n",
    " * Assume for the first case (forward relation) that $I_0$ is represented internally as a float number with an error, i.e. $I_0 = \\ln(11/10) + \\epsilon$, where $\\epsilon$ is the error. We know that $\\epsilon\\approx 10^{-18}$ for `Python` float numbers. What happens with $\\epsilon$ when you calculate new elements of the series? \n",
    " * for the logarithm you can use the numpy module with ```import numpy``` and use the defined function ```numpy.log(x)``` to obtain $\\ln(x)$!"
   ]
  },
  {
   "cell_type": "code",
   "execution_count": 14,
   "metadata": {},
   "outputs": [
    {
     "name": "stdout",
     "output_type": "stream",
     "text": [
      "[0.09531017980432493, 0.04689820195675065, 0.031017980432493486, 0.023153529008398455, 0.018464709916015454, 0.015352900839845474, 0.013137658268211921, 0.011480560175023635, 0.010194398249763648, 0.009167128613474629, 0.008328713865253717, 0.007621952256553738, 0.00711381076779595, 0.005784969245117427, 0.013578878977397152, -0.06912212310730485, 0.7537212310730486, -7.478388781318721, 74.83944336874276, -748.3418021084802, 7483.468021084803]\n",
      "I20 =  7483.468021084803\n"
     ]
    }
   ],
   "source": [
    "#problem 4.1\n",
    "import numpy as np\n",
    "\n",
    "I = [np.log(11/10)]\n",
    "i = 1\n",
    "while i <= 20:\n",
    "    I.append((1/i) - 10*I[i-1])\n",
    "    i+=1\n",
    "print(I)\n",
    "print(\"I20 = \", I[20])"
   ]
  },
  {
   "cell_type": "code",
   "execution_count": 7,
   "metadata": {},
   "outputs": [
    {
     "name": "stdout",
     "output_type": "stream",
     "text": [
      "[0, 0.002, 0.0018408163265306123, 0.0018992517006802719, 0.001937734404400058, 0.001980139603038255, 0.002024208261918397, 0.0020703064465354333, 0.002118550750695294, 0.0021690973058828516, 0.0022221146596556173, 0.0022777885340344384, 0.00233632371069912, 0.002397946576298509, 0.002462908045072852, 0.0025314869732704927, 0.0026039941598158083, 0.0026807770546066548, 0.002762225324842365, 0.0028487774675157638, 0.002940928704861327, 0.0030392404628472006, 0.0031443518157842454, 0.003256993389850147, 0.0033780043647186893, 0.0035083534096819777, 0.003649164659031803, 0.003801750200763486, 0.003967651066880173, 0.004148689438766529, 0.004347035818028109]\n",
      "I20 =  0.004347035818028109\n"
     ]
    }
   ],
   "source": [
    "#problem 4.2\n",
    "#if you get a numpy error, execute the previous cell first!\n",
    "\n",
    "I = [0]\n",
    "i = 50\n",
    "while i >= 21:\n",
    "    I.append((1/10)*(1/i - I[50-i]))\n",
    "    i-=1\n",
    "print(I)\n",
    "print(\"I20 = \", I[50-20])"
   ]
  },
  {
   "cell_type": "markdown",
   "metadata": {},
   "source": [
    "The reverse relation would give an answer closer to the actual value. This is because, in the forward relation we have the term $10 \\cdot I_{n-1}$ in the recursive relation, which compounds the floating-point error when the recursive relation is repeatedly applied. (That is, the error compounds with every application of the recursive relation). This problem does not arise in the case of reverse relation, since we have the term $\\left(\\frac{1}{10}\\right) \\cdot I_n$ which actually suppresses the error when the recursive relation is repeatedly applied."
   ]
  },
  {
   "cell_type": "markdown",
   "metadata": {
    "tags": []
   },
   "source": [
    "## 5. Chicken McNuggets (15 points)\n",
    "Mc Donalds sells its Chicken McNuggets in packages of 6, 9 and 20 pieces. Write a ```python``` program which tests for a given number `N` whether `N` nuggets can be bought or not. Your program should print *all* possible package combinations in which the `N` nuggets can be obtained (e.g. 60 nuggets can be bought with 3 packages of 20 pieces, 10 packages of 6 pieces and three more combinations). Print a corresponding message if the `N` nuggets cannot be bought! \n",
    "\n",
    "**Hints:**\n",
    "- This is a *brute force* problem. It means that you need to find the solutions by trying *all possibilities*. One possible approach is as follows: Write three nested `while` loops iterating over the variables `m`, `n` and `o`. The variables represent the number of packages with corresponding pieces. `m` stands for the number of packages with 6 nuggets and so on. Within the innermost loop, you can check with an `if`-statement such as\n",
    "```\n",
    "if (6 * m + 9 * n + 20 * o) == N:\n",
    "    print('possible solution found ....')\n",
    "```\n",
    "whether your current combination of `(m, n, o)` is a solution to the problem. You now only need to find iteration limits for `m`, `n` and `o` to solve the task. \n",
    "\n",
    "- For `N=60`, you should find the following solutions for `(m * 6, n * 9, o * 20)`: `(0, 0, 3)`, `(1, 6, 0)`, `(4, 4, 0)`, `(7, 2, 0)`, `(10, 0, 0)`."
   ]
  },
  {
   "cell_type": "code",
   "execution_count": 8,
   "metadata": {},
   "outputs": [
    {
     "name": "stdout",
     "output_type": "stream",
     "text": [
      "Possible solutions = [(0, 0, 3), (1, 6, 0), (4, 4, 0), (7, 2, 0), (10, 0, 0)]\n"
     ]
    }
   ],
   "source": [
    "#problem 5\n",
    "def nuggets(n):\n",
    "    A = []\n",
    "    for i in range(0,n):\n",
    "        for j in range(0,(n-(i*6)+1)):\n",
    "            for k in range(0,(n-(i*6)-(j*9)+1)):\n",
    "                if(i*6 + j*9 + k*20 == n):\n",
    "                    A.append((i,j,k))\n",
    "    print(\"Possible solutions =\", A)\n",
    "\n",
    "#check for 60 total nuggets\n",
    "nuggets(60)"
   ]
  }
 ],
 "metadata": {
  "celltoolbar": "Create Assignment",
  "kernelspec": {
   "display_name": "Python 3 (ipykernel)",
   "language": "python",
   "name": "python3"
  },
  "language_info": {
   "codemirror_mode": {
    "name": "ipython",
    "version": 3
   },
   "file_extension": ".py",
   "mimetype": "text/x-python",
   "name": "python",
   "nbconvert_exporter": "python",
   "pygments_lexer": "ipython3",
   "version": "3.9.10"
  }
 },
 "nbformat": 4,
 "nbformat_minor": 4
}
