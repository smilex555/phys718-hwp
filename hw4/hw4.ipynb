{
 "cells": [
  {
   "cell_type": "markdown",
   "metadata": {
    "nbgrader": {
     "grade": false,
     "grade_id": "cell-515e01b25bda86a9",
     "locked": true,
     "schema_version": 3,
     "solution": false,
     "task": false
    }
   },
   "source": [
    "# Exercises and Homework for week 5"
   ]
  },
  {
   "cell_type": "markdown",
   "metadata": {},
   "source": [
    "**Your group number here please:**  Group 02\n",
    "Ajay, Areti & Vlera"
   ]
  },
  {
   "cell_type": "markdown",
   "metadata": {},
   "source": [
    "## 1. Lecture Review (0 points)"
   ]
  },
  {
   "cell_type": "markdown",
   "metadata": {},
   "source": [
    "N/A"
   ]
  },
  {
   "cell_type": "markdown",
   "metadata": {
    "tags": []
   },
   "source": [
    "## 2. Plots of vector fields (0 points)\n",
    "Please study the notebook [04_vector_fields_matplotlib.ipynb](04_vector_fields_matplotlib.ipynb) to plot vector fields with `matplotlib`. You will need it in task 3."
   ]
  },
  {
   "cell_type": "markdown",
   "metadata": {},
   "source": [
    "N/A"
   ]
  },
  {
   "cell_type": "markdown",
   "metadata": {
    "tags": []
   },
   "source": [
    "<a id='plate_condensator'></a>\n",
    "## 3. Electric field of a parallel-plate condensator (15 points)\n",
    "You learned about the parallel-plate condensator and its electric field in your experimental and theoretical physics classes. To start, you assume that the electric field within the condensator is homegeneous within the condensator:\n",
    "<img src=\"figs/condensator_simple.png\" style=\"height: 200px;\">"
   ]
  },
  {
   "cell_type": "markdown",
   "metadata": {},
   "source": [
    "In this exercise, we want to calculate the electric field within a bounded, two-dimensional region. You know from your theoretical physics classes that the electrical field $\\vec{E}(x, y)$ within a region, free of charges, can be obtained from the electric potential $\\Phi(x, y)$ via $\\vec{E}(x, y)=-\\nabla\\Phi(x, y)$. The electric potential in turn is covered by the two-dimensial Laplace equation:\n",
    "$$\n",
    "\\Delta \\Phi(x, y)=0.\n",
    "$$\n",
    "Please have a look at [Wikipedia](https://en.wikipedia.org/wiki/Mathematical_descriptions_of_the_electromagnetic_field) if you would like to fresh up your knowledge on electric fields, Maxwells equations and the like.\n",
    "\n",
    "The setup for this exercise is as follows:\n",
    "\n",
    "<img src=\"figs/condensator_layout.png\" style=\"height: 300px;\">"
   ]
  },
  {
   "cell_type": "markdown",
   "metadata": {},
   "source": [
    "We are given a bounded region as shown above and two condensator plates whose electric potentials are constant at $\\Phi=\\pm 1$. The potential at the boundary is constant at zero. To justify the latter condition, the condensator plates must be away far enough from the boundaries. For our purposes, the configuration above fulfills this condition. \n",
    "\n",
    "Your task is to determine the potential in the interior such that it fulfills the boundary conditions and $\\Delta\\Phi(x,y)=0$ everywhere else."
   ]
  },
  {
   "cell_type": "markdown",
   "metadata": {
    "tags": []
   },
   "source": [
    "### An iteration scheme to solve Laplaces equation with boundary conditions\n",
    "For our setup, we can numerically solve the equation $\\Delta\\Phi(x, y)=0$ in a region with boundary conditions as follows:\n",
    "1. We put a regular, two-dimensional grid of points on our region. Individual points are separated in $x$ and $y$ by $h_x$ and $h_y$ respectively. We will assume henceforth that $h=h_x=h_y$.\n",
    "2. $$ \\Delta\\Phi(x, y) = \\frac{\\partial}{\\partial x^2}\\Phi(x, y) + \\frac{\\partial}{\\partial y^2}\\Phi(x, y).$$\n",
    "We can numerically approximate the second derivatives via:\n",
    "$$\n",
    "\\frac{\\partial}{\\partial x^2}\\Phi(x, y) = \\frac{\\Phi(x+h, y)-2\\Phi(x, y)+\\Phi(x-h,y)}{h^2} + \\cal{O}(h^2)\n",
    "$$\n",
    "and similarily\n",
    "$$ \\frac{\\partial}{\\partial y^2}\\Phi(x, y) = \\frac{\\Phi(x, y+h)-2\\Phi(x, y)+\\Phi(x,y-h)}{h^2} + \\cal{O}(h^2)\n",
    "$$\n",
    "With $\\Delta\\Phi(x, y)=0$, we obtain by neglecting higher-order terms:\n",
    "$$\n",
    "\\Phi(x, y) = \\frac 14(\\Phi(x+h, y) + \\Phi(x-h, y) + \\Phi(x, y+h) + \\Phi(x, y-h)).\n",
    "$$\n",
    "3. The formulas in (2.) allow us the construction of an iteration scheme:\n",
    "  1. Set $\\Phi_0(x, y)$ to fulfill the boundary conditions and set it equal to zero everywhere else.\n",
    "  2. Calculate $\\Phi_1(x, y) = \\frac 14(\\Phi_0(x+h, y) + \\Phi_0(x-h, y) + \\Phi_0(x, y+h) + \\Phi_0(x, y-h))$. Hereby, you need to ensure that $\\Phi_1(x, y)$ still fulfills the boundary conditions!\n",
    "  3. Repeat step (2.). i.e. calculate $\\Phi_{n+1}(x, y) = \\frac 14(\\Phi_n(x+h, y) + \\Phi_n(x-h, y) + \\Phi_n(x, y+h) + \\Phi_n(x, y-h))$ until you reach convergence. We want to define convergence via $\\max \\left|\\Phi_{n+1}(x, y) - \\Phi_{n}(x, y)\\right| < 1.0\\cdot 10^{-4}$, where the maximum is taken over all grid-points."
   ]
  },
  {
   "cell_type": "markdown",
   "metadata": {},
   "source": [
    "### Your tasks"
   ]
  },
  {
   "cell_type": "markdown",
   "metadata": {},
   "source": [
    "Please write a program to implement the scheme above and to visualise the electric field of the parallel-plate condensator.\n",
    "\n",
    "1. Define your two-dimensional coordinate grid as shown above with 101 points in the $x$ and the $y$ dimensions.\n",
    "\n",
    "   **Note:** 101 points ensure a nice coverage of the interval $[0, 1]$ with points when using `np.linspace(0.0, 1.0, 101)`. To make this clear, consider the lower resolution case with 11 points:\n",
    "   ```\n",
    "   a = np.linspace(0.0, 1.0, 11)\n",
    "   print(a)\n",
    "   array([ 0. ,  0.1,  0.2,  0.3,  0.4,  0.5,  0.6,  0.7,  0.8,  0.9,  1. ])\n",
    "   ```\n",
    "2. I placed my condensator plates at $x_{left}=0.35$ and $x_{right}=0.65$. The extent in $y$ is $y_{low} = 0.35$ and $y_{high}=0.65$ but please feel free to experiment with other choices.\n",
    "3. Implement the iteration scheme above *without* any `for`-loops over the grid points but use `numpy`-slicing instead!\n",
    "4. Once you have estimated the potential $\\Phi(x,y)$, calculate the electric field via $\\vec{E}(x, y)=-\\nabla\\Phi(x, y)$ and visualise it. Please have a look at [this notebook](04_vector_fields_matplotlib.ipynb) to learn some basics on vector-plots with `matplotlib`."
   ]
  },
  {
   "cell_type": "code",
   "execution_count": 281,
   "metadata": {},
   "outputs": [],
   "source": [
    "#task 1\n",
    "import numpy as np\n",
    "import matplotlib.pyplot as plt\n",
    "\n",
    "#construct a 2D grid\n",
    "codi = np.linspace(0., 1., 101)\n",
    "X, Y = np.meshgrid(codi, codi)\n",
    "dh = codi[1] - codi[0]"
   ]
  },
  {
   "cell_type": "code",
   "execution_count": 284,
   "metadata": {},
   "outputs": [
    {
     "name": "stdout",
     "output_type": "stream",
     "text": [
      "Number of iterations: 1111\n"
     ]
    }
   ],
   "source": [
    "#task 2, 3\n",
    "phi = 0 * X\n",
    "\n",
    "#initialise capacitor plate potential\n",
    "phi[35, 35:65] = -1\n",
    "phi[65, 35:65] = 1\n",
    "\n",
    "i = 0\n",
    "while (True):\n",
    "    i += 1\n",
    "    phi_old = np.copy(phi)\n",
    "    phi[1:-1, 1:-1] = (1/4)*(phi[2:,1:-1] + phi[0:-2,1:-1] + phi[1:-1, 2:] + phi[1:-1, 0:-2])\n",
    "    phi[35, 35:65] = -1\n",
    "    phi[65, 35:65] = 1\n",
    "    if np.max(np.abs(phi - phi_old)) < 1.0E-4:\n",
    "        print(\"Number of iterations:\", i)\n",
    "        break"
   ]
  },
  {
   "cell_type": "code",
   "execution_count": 289,
   "metadata": {},
   "outputs": [
    {
     "data": {
      "text/plain": [
       "Text(0.5, 1.0, 'electric monopole')"
      ]
     },
     "execution_count": 289,
     "metadata": {},
     "output_type": "execute_result"
    },
    {
     "data": {
      "image/png": "[encoded data removed]",
      "text/plain": [
       "<Figure size 432x288 with 1 Axes>"
      ]
     },
     "metadata": {
      "needs_background": "light"
     },
     "output_type": "display_data"
    }
   ],
   "source": [
    "#task 4\n",
    "Ey, Ex = np.gradient(phi, dh, dh)\n",
    "\n",
    "fig, ax = plt.subplots()\n",
    "ax.set_aspect('equal')\n",
    "\n",
    "ax.plot(X[35, 35:65], Y[35, 35:65], '-', markersize = 20)\n",
    "ax.streamplot(X, Y, Ex, Ey, density=0.5, color='red')\n",
    "\n",
    "ax.set_xlabel(r'$x$')\n",
    "ax.set_ylabel(r'$y$')\n",
    "plt.title('electric monopole')"
   ]
  },
  {
   "cell_type": "markdown",
   "metadata": {
    "tags": []
   },
   "source": [
    "## 4. Word doubling (15 points)\n",
    "\n",
    "This task results in a very practical program which you can use when you write your next larger text (thesis, publication etc.).\n",
    "\n",
    "When writing a text, we often make the mistake to repeat a word.\n",
    "\n",
    "   ```\n",
    "   When typing longer texts, we often often make the mistake to\n",
    "   repeat individual words such as here here.\n",
    "\n",
    "   ```\n",
    "   \n",
    "Write a program which reads a text file and marks positions with such mistakes. You should print lines and linenumbers with double words. Consider also cases where a word doubling occurs directly before and after a line break.\n",
    "\n",
    "You can find a short example text for test purposes [here](data/double_words.txt).\n",
    "\n",
    "**Note:**\n",
    "An obvious ansatz for the problem is to read a line, to split it according to spaces, tabulators and line breaks and to perform the double word test. This, however is no complete solution to the problem! Consider again the above example:\n",
    "\n",
    "   ```\n",
    "   ... such as here here.\n",
    "   ```\n",
    "   \n",
    "The double word `here` would not be recognised because the second one is directly followed by a dot (end of sentence mark). There are similar issues with other punctuation marks such as semicolons, parentheses and so on. See the following cell for a possibility to take this into account.\n",
    "\n",
    "**Example:** The [example text](data/double_words.txt) gives the follwing output with my code:\n",
    "```\n",
    "Repetition in line 1. Word \"often\" at position 6!\n",
    "Repetition in line 2. Word \"here\" at position 6!\n",
    "Repetition of the first word \"words\" on line 5. It occured at the end of the previous (non-empty) line!\n",
    "Repetition of the first word \"test\" on line 9. It occured at the end of the previous (non-empty) line!\n",
    "\n",
    "```"
   ]
  },
  {
   "cell_type": "code",
   "execution_count": 94,
   "metadata": {},
   "outputs": [
    {
     "name": "stdout",
     "output_type": "stream",
     "text": [
      "['Here', 'some', 'text', 'with', 'double', 'double', 'words', 'words', 'It', 'also', 'contains', 'puctuation', '']\n"
     ]
    }
   ],
   "source": [
    "# example to split a string into words taking into account\n",
    "# (removing) punctuation.\n",
    "# For time reasons, we will not treat 'regular expressions' in class\n",
    "# but you should look them up yourself! You should know them from\n",
    "# Linux already.\n",
    "\n",
    "import re # module to handle regular expressions in a Python program\n",
    "\n",
    "s = \"Here some text with double (double!) words words. It also contains puctuation!\"\n",
    "\n",
    "# split s into its words without the punctuation marks; note that\n",
    "# you might end up with empty strings in the word list!\n",
    "words = re.split('\\W+', s.rstrip())\n",
    "\n",
    "print(words)"
   ]
  },
  {
   "cell_type": "code",
   "execution_count": 96,
   "metadata": {},
   "outputs": [
    {
     "name": "stdout",
     "output_type": "stream",
     "text": [
      "Repetition at line 0 position 5 . Repeated word: often\n",
      "Repetition at line 1 position 5 . Repeated word: here\n",
      "Repetition at line 3 position 4 . Repeated word: words\n"
     ]
    }
   ],
   "source": [
    "#function based on the above method to split a sentence into words\n",
    "def respl(string):\n",
    "    \"\"\"This function takes in a sentence (string) and returns a list of words without any special characters\"\"\"\n",
    "    return re.split('\\W+', string.rstrip())\n",
    "\n",
    "text = [] #list to store the lines as a list\n",
    "lines = [] #list to split and store every sentence into words\n",
    "\n",
    "#open a text file in read mode and store the lines in a list\n",
    "with open(r'./double_words.txt', 'r') as file:\n",
    "    text = file.readlines() #this returns a list with every element of the list being a line\n",
    "    \n",
    "#for loop to iterate over the lines and split them into words\n",
    "for i in range(len(text)):\n",
    "    lines.append(respl(text[i])) #every element of a list is a list of splits words of a line\n",
    "    \n",
    "pos = [] #list to store the positions of repetitions\n",
    "#check for repetitions within a line\n",
    "for i in range(len(lines)):\n",
    "    for j in range(len(lines[i]) -1):\n",
    "        if (lines[i][j] == lines[i][j+1]) and (lines[i][j] != ''):\n",
    "            pos.append([i, j]) #if two consecutive words match, append them to a list\n",
    "            #we also check if they are non-empty strings. This is needed because, if we have two consecutive special characters\n",
    "            #separated by spaces(e.g., 'hello # $ world'), our method counts # and $ as repetitions, since the function respl returns\n",
    "            #empty strings at those positions.\n",
    "\n",
    "#check for repetitions at the end of a line and the beginning of the next line\n",
    "for i in range(len(lines) - 1):\n",
    "    if (lines[i][len(lines[i]) - 1] == lines[i+1][0]) and (lines[i+1][0] != ''):\n",
    "        pos.append([i,len(lines[i]) -1]) #if the last word of a line and the first word of the next line are the same, append them to a list\n",
    "        #we also check if they are non-empty strings. This is needed because the cases like where we have consecutive empty lines\n",
    "        #will be counted as repetitions otherwise. If a line ends with a special character and if the next line is empty,\n",
    "        #this will be counted as a repetition too, if we don't check for empty strings.\n",
    "\n",
    "#the list pos already contains the positions - line number and position - of every repetition, but they're not sorted.\n",
    "#the following step is not absolutely necessary, and it is included only to make the result more presentable\n",
    "#the following lines basically converts the pos list to a numpy array (so that we have better and easier ways to sort it)\n",
    "#and sorts the indices based on the first column, and if they match, then the second column\n",
    "pos = np.array(pos) #convert to array\n",
    "ind = np.lexsort(([pos[:,1], pos[:,0]])) #sort the array. e.g., ind = [0, 2, 1] means pos is sorted as pos[0], pos[2], pos[1]\n",
    "#note that this step doesn't produce any difference in the case of the file, 'double_words.txt'\n",
    "#but this will be a nice generalisation to such a code\n",
    "pos = pos[ind]\n",
    "\n",
    "#print the results\n",
    "for i in range(len(pos)):\n",
    "    print(\"Repetition at line\", pos[i, 0], \"position\", pos[i, 1], \". Repeated word:\", lines[pos[i, 0]][pos[i, 1]])"
   ]
  },
  {
   "cell_type": "markdown",
   "metadata": {},
   "source": [
    "**Remarks:**  \n",
    "It should be noted that the above code checks every word for an exact match. For example, the words, \"Hello\" and \"hello\" are considered different. In other words the code is case sensitive, when it comes to repetitions of characters. This is much more difficult to overcome since ASCII encodes different cases differently. While it is possible to check letters for cases, it is much more involved. We do not try that since it is not a part of the problem. This \"failure\" is actually a boon, since legitimated sentences like \" ... here. Here, ...\" will not be marked as a repetition, but genuine mistakes will go unmarked. This example shows us the complexity of this case.  \n",
    "It should also be noted that the above code will fail when you have a special character sandwiched between two same words, for example, \"hello-hello\" (or even something like, \"hello . hello\"). This will return a repetition. Such cases are actually fairly common in English, and again, it is possible to check for this case separately. This has not been done here, but could be a part of a future \"update\" to this code.  \n",
    "To summarise, the code essentially checks for word repetitions at consecutive positions and at the end and the beginning of consecutive lines. While it is true that it returns false repetitions (in certain cases), it obviously does not neglect true repetitions (within the constraint of case sensitivity)."
   ]
  }
 ],
 "metadata": {
  "celltoolbar": "Create Assignment",
  "kernelspec": {
   "display_name": "Python 3 (ipykernel)",
   "language": "python",
   "name": "python3"
  },
  "language_info": {
   "codemirror_mode": {
    "name": "ipython",
    "version": 3
   },
   "file_extension": ".py",
   "mimetype": "text/x-python",
   "name": "python",
   "nbconvert_exporter": "python",
   "pygments_lexer": "ipython3",
   "version": "3.9.10"
  }
 },
 "nbformat": 4,
 "nbformat_minor": 4
}
