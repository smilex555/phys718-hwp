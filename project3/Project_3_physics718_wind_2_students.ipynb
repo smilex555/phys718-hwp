{
 "cells": [
  {
   "cell_type": "markdown",
   "id": "856d7963-2b04-4046-9b6f-735d216eeec8",
   "metadata": {},
   "source": [
    "# Project 3 - Frequency analysis on floating wind turbine\n",
    "\n"
   ]
  },
  {
   "cell_type": "markdown",
   "id": "6eef3fe2-04be-456f-be08-53457e6d75a0",
   "metadata": {
    "tags": []
   },
   "source": [
    "**Project deadline:** This project is due for submission on Wednesday, 16.06.2022, 23:55. Please check carefully the *About the Projects* section below for further details.\n",
    "Because of the holidays from 07.06.-10.06., you have three weeks to work on this project. "
   ]
  },
  {
   "cell_type": "markdown",
   "id": "489f3aae-0a6f-4e73-9bbf-50beee2d5b65",
   "metadata": {},
   "source": [
    "**Important:** You have the choice between two projects. This project is a follow up on the lecture on Fourier transforms and how we can use this technique to analyze physical objects and solve such problems. The other project brings the word-game from project2 to a new level. We strongly advise you to read through both project notebooks completely before you take a decision."
   ]
  },
  {
   "cell_type": "markdown",
   "id": "395ad8d3-6c77-43fa-bde6-907d8d691df0",
   "metadata": {},
   "source": [
    "**Remark:** This project is stand-alone and you also can work on it if you *did not* work on the Wind turbine in project1. "
   ]
  },
  {
   "cell_type": "markdown",
   "id": "d9894695-d72f-4d22-9ca9-b7cc9ea28037",
   "metadata": {},
   "source": [
    "**Hand in:** Please continue this notebook and hand this in as .ipynb file at [Projects/Project 3](https://ecampus.uni-bonn.de/goto_ecampus_exc_2645968.html)."
   ]
  },
  {
   "cell_type": "markdown",
   "id": "9c593379-1e66-41a4-9558-09ed6c955aaf",
   "metadata": {},
   "source": [
    "## Your name here:\n",
    "Ajay Shanmuga Sakthivasan"
   ]
  },
  {
   "cell_type": "markdown",
   "id": "bc7a6f0b-72e3-47da-8f1a-1dbecf85b21e",
   "metadata": {},
   "source": [
    "# Floating wind turbines\n",
    "Currently, the demand for renewable energy is very high. Wind turbines are very successful sources of renewable energy, and many states are planning new wind farms to increase the fraction of green energy in the overall consumption. Despite the high demand, it is difficult to establish large new onshore (land-based) wind farms due to space limitations: Attention has to be paid to landscape and neighbors.\n",
    "\n",
    "The same constraints do not limit offshore wind farms. However, a conventional offshore wind turbine has a foundation which stands on the seafloor. The foundations are limited to a certain water depth, since the price and complexity of the foundation scales unfavorably with depth. According to Wikipedia, fixed foundations can be installed at water depth up to around 50 m.\n",
    "\n",
    "This depth constraint limits the possible wind farm locations to a moderate number of areas in the world where the ocean floor falls off relatively flatly away from the shore. \n",
    "\n",
    "Therefore, floating foundations are now being developed by many companies.\n",
    "\n",
    "While floating wind turbine foundations may solve many problems related to installation of offshore wind, the technologies are still being tested. \n",
    "\n",
    "In this project you will work with simulated operational data for a floating foundation fitted with a 15 MW wind turbine. At the present time the average size of offshore wind turbines is on the order of 8 MW, but wind turbines in producing in the range of 15-20 MW are being pursued by many of the manufacturing companies. \n",
    "\n",
    "\n",
    "### This project\n",
    "In this project, we will again consider the dataset we used in the last project. \n",
    "The data are simulations of a floating 15 MW offshore turbine. The dataset we used in the previous project is for the 50-year event, an extreme storm which occurs very rarely, on time-scales of 50 years. Under such conditions, the rotor blades are turned such that act as aerodynamic they brakes, and the rotor is only turning at a very slow speed.\n",
    "\n",
    "In the previous project, we studied the time-domain of this dataset,  i.e. the data presented as values as a function of time. We will now study the data in the frequency domain, i.e. the frequency components of this dataset.\n",
    "\n"
   ]
  },
  {
   "cell_type": "markdown",
   "id": "fcfb9d2f-b6cc-4e89-bce4-52555488f6e2",
   "metadata": {},
   "source": [
    "The data contains the values shown in this figure as a function of time. \n",
    "\n",
    "<img src=\"figs/windTurbinePicture1.png\" width=\"600\" />\n",
    "\n",
    "\n",
    "\n",
    "\n"
   ]
  },
  {
   "cell_type": "markdown",
   "id": "85b89ad3-ac2d-45c3-9987-3f0865943203",
   "metadata": {},
   "source": [
    "## Necessary Python packages"
   ]
  },
  {
   "cell_type": "code",
   "execution_count": 1,
   "id": "4b17613b-abdf-4637-aa5f-fef0aa4187e9",
   "metadata": {},
   "outputs": [],
   "source": [
    "# Here we import the same modules as in the last version of this project.\n",
    "%matplotlib inline\n",
    "import matplotlib.pyplot as plt\n",
    "import seaborn as sns\n",
    "sns.set_style(\"whitegrid\")\n",
    "\n",
    "import pandas as pd\n",
    "import numpy as np\n",
    "\n",
    "#to calculate the correlation coefficient\n",
    "from scipy import stats\n",
    "\n",
    "filename = \"https://raw.githubusercontent.com/terben/Programming_in_Python_BCGS_Summer_2022/master/lecture_08/data/Orcaflex%20Simulation%2C%2015%20MW%20wind%20turbine.csv\"\n",
    "\n",
    "# This one is new, consider what it does. \n",
    "units = [pd.read_csv(filename, delimiter = ';', header=2)[key][0] for key in pd.read_csv(filename, delimiter = ';', header=2).keys()]\n",
    "# pd.DataFrame.keys() returns the 'info axis' (see https://pandas.pydata.org/docs/reference/api/pandas.DataFrame.keys.html)\n",
    "# this is done to extract the corresponding units from the csv file.\n",
    "\n",
    "# We load and save the data.\n",
    "data = pd.read_csv(filename, delimiter = ';', header=2, skiprows=[3])"
   ]
  },
  {
   "cell_type": "markdown",
   "id": "b0d6d78a-bbfd-4f17-aa08-0d274877da29",
   "metadata": {},
   "source": [
    "From last time we already The data set contains\n",
    "* Time in s\n",
    "* Wind speed in m/s\n",
    "* Sea surface offset from 'flat water' conditions in m. This is the wave height\n",
    "* Mooring force in kN. This is the force on the anchor lines  \n",
    "* Tilt in degrees\n",
    "* Nacelle acceleration in m/s$^2$. The nacelle is the 'house' on top of the turbine where the rotor is attached\n",
    "* Tower moment in kN m. This is the torque on from the tower moving with respect to the foundation.  \n",
    "\n",
    "We make arrays out of the different columns. "
   ]
  },
  {
   "cell_type": "code",
   "execution_count": 2,
   "id": "643ed074-5f98-4d6e-836b-c0637e8c9b02",
   "metadata": {},
   "outputs": [],
   "source": [
    "t = np.array(data['Time']) \n",
    "seaSurface = np.array(data['Sea surface'])\n",
    "tilt = np.array(data['Tilt'])\n",
    "mooring = np.array(data['Mooring force'])\n",
    "nacAcc = np.array(data['Nac. acc.'])\n",
    "towerMom = np.array(data['Tower mom.'])\n",
    "windSpeed = np.array(data['Wind speed'])"
   ]
  },
  {
   "cell_type": "markdown",
   "id": "c55cd2eb-edf5-4ece-afce-ba7fcd83e56a",
   "metadata": {},
   "source": [
    "In the previous project we considered the behavior of the wind turbine in time-domain. Now we will consider it in frequency domain."
   ]
  },
  {
   "cell_type": "markdown",
   "id": "a24b5369-1e4c-45d1-8c5d-a85ef5c64d30",
   "metadata": {},
   "source": [
    "# Your tasks"
   ]
  },
  {
   "cell_type": "markdown",
   "id": "5f80c7d5-195c-4b10-9d9e-523a1b3d1dce",
   "metadata": {},
   "source": [
    "To solve this project, you should answer the following questions below. \n",
    "\n",
    "Remember to choose meaningful x-axes for your plot, as you will that most information is contained at low frequencies. Please also consider when it makes sense to do logarithmic plots.\n",
    "   \n",
    "### 1) Fourier transform your variables\n",
    "Use the numpy real fast fourier transform, np.fft.rfft, on the data, and plot the frequency magnitudes for the different datasets. \n",
    "\n",
    "What frequency in the sea surface spectrum has the highest amplitude? What period does this correspond to?\n",
    "\n",
    "In the previous project we found a strong correlation between the acceleration of the nacelle and the tower moment, following from Newton's 2nd law describing how rotational acceleration translate into a force. Do you also see this in the frequencies?\n"
   ]
  },
  {
   "cell_type": "markdown",
   "id": "60ee8b7e-a61d-49b9-9423-ea0af736131d",
   "metadata": {},
   "source": [
    "### 2) Average the Fourier transform\n",
    "The spectra you plotted in the previous exercise are very noisy.\n",
    "\n",
    "Write a function which can do an averaged Fourier transform: \n",
    "* Snip your time-series into $n$ bits\n",
    "* Make a Fourier transform of each of the bits\n",
    "* Mean over the resulting Fourier transforms.\n",
    "\n",
    "By taking a long time-series, you can get a high frequency resolution. However, the noise level does not change as you measure longer. \n",
    "Therefore, by cutting the time series in smaller bits and averaging over the Fourier Transformed signals, we lose frequency resolution, but suppress noise. \n",
    "\n",
    "Your function should return the frequencies and the Fourier transform values. \n",
    "\n",
    "\n",
    "What happens to the maximal frequency we can measure when we slice the time series into bits?\n",
    "\n",
    "Test your new function on a 8192-point long signal \n",
    "\\begin{align}\n",
    "s(x) = \\sum_{f_i} \\cos(2\\pi f_i x )+\\epsilon\n",
    "\\end{align}\n",
    "for some $x$ with a few frequencies $f_i$ of your choice (start with one frequency component and test it with up to 10 different $f_i$s) and with additional noise $\\epsilon$ drawn from a Gaussian distribution around zero. Take a look at the [numpy.random.normal](https://numpy.org/doc/stable/reference/random/generated/numpy.random.normal.html)-module to learn how to add Gaussian noise. Observe that you limit noise by averaging.\n",
    "\n",
    "\n",
    "Does the frequency in the sea surface spectrum with the highest amplitude change much when $n=2,4,8,...$?\n",
    "\n",
    "\n",
    "We observe two frequency components in the tower moment. One of the frequency components are caused by the turbine eigenfrequency. Which one, and what causes the other one? Compare to the frequency spectra of the other parameters. \n",
    "\n",
    "What period does this frequency correspond to?\n",
    "\n"
   ]
  },
  {
   "cell_type": "markdown",
   "id": "f06c0283-76ba-40bc-a46a-3ab0b5c23835",
   "metadata": {},
   "source": [
    "### 3) Where is the energy?\n",
    "We have observed that many of the turbine-components oscillate with two frequencies. The energy of a frequency component scales as the square of the frequency amplitude. \n",
    "\n",
    "Make a plot which shows the normalized cumulative energy of the mooring - you can use np.cumsum to calculate the cumulative sum. \n",
    "Remember to omit the 0th point of the amplitudes. \n",
    "\n",
    "What frequency component carries most energy? \n"
   ]
  },
  {
   "cell_type": "markdown",
   "id": "ab5c4df5-0407-4511-b5ea-cd6240dd8ded",
   "metadata": {},
   "source": [
    "### 4) Creating waves\n",
    "So far we studied the frequency spectrum of a simulation of a wind turbine subject to a 50-year storm. For such a simulation, the time series for the waves are calculated by taking a known frequency spectrum of waves and transforming these frequencies into sinusoidals which are added together. \n",
    "\n",
    "This spectrum is usually drawn from what is called a [JONSWAP-spectrum](https://wikiwaves.org/Ocean-Wave_Spectra). \n",
    "\n",
    "In this case, we model the wave-spectrum with a JONSWAP-like spectrum, resulting in a Fourier transform magnitude\n",
    "\\begin{align}\n",
    "    M(f) = \\frac{10^{-6} \\,\\mbox{Hz}^4 }{f^5}\\exp\\left(-\\frac{5}{4}\\left(\\frac{f_0}{f}\\right)^4\\right)\\cdot (N+1)/2\n",
    "\\end{align}\n",
    "where $f$ is the frequency, $f_0$ is the peak frequency, and the constants contain the physical parameter: The wind-speed which gave rise to these waves, the gravitational acceleration, and the drag of the wind on the sea surface. We have already normalized the magnitude by the length of the frequency axis, $N$.\n",
    "\n",
    "Use your averaging function to plot the frequency spectrum of the actual sea surface. Does this have the same feature as the function $M(f)$? \n",
    "\n",
    "Use the inverse fast Fourier transform [np.fft.irfft](https://numpy.org/doc/stable/reference/generated/numpy.fft.irfft.html) on $M(f)$ to create a time series and plot it. This should not look nice - what is going on?\n",
    "\n",
    "\n",
    "To get a realistic wave-pattern, we also need a phase-component. Create an array of the same length as $M(f)$ with phases drawn from an uniform distribution. \n",
    "You can calculate the real and imaginary amplitudes of the Fourier transform from the magnitude and angle by\n",
    "\\begin{align}\n",
    "    RE\\,X + i \\, IM\\,X = M(X)e^{i \\phi(X)}.\n",
    "\\end{align}\n",
    "Calculate the inverse Fourier transform of your new Fourier spectrum, and compare the calculated waves with the actual waves we expect. How does the wave heights compare? \n",
    "\n",
    "\n",
    "\n",
    "For real simulations, a number of wave-spectra are generated with different random number generator seeds. Then an appropriate wave series is chosen based on the properties such as highest and lowest waves. \n",
    "Generate three different random phase arrays. Use these three to calculate three wave time-series. How different are the maximum and minimum value of the waves?\n",
    "\n"
   ]
  },
  {
   "cell_type": "markdown",
   "id": "b690e7c1-695a-4153-99a7-26f5b73e9593",
   "metadata": {},
   "source": [
    "### Solutions to Main Tasks"
   ]
  },
  {
   "cell_type": "markdown",
   "id": "9c040d87-c0f6-4496-9243-b47f8db41401",
   "metadata": {},
   "source": [
    "**Important Notes:**  \n",
    "- No other file except the notebook is included with this submission, as requested in the \"About the Projects\" section.\n",
    "- The data loading section has been modified to load the csv file from the git repository on GitHub and therefore, an internet connection is required for this notebook to work! This is done because the necessary csv file for this notebook is not included with this submission. In case of no internet connection or if the git repository is taken down, this notebook will not work. In that case, the loading data section should be modified again to load a local version of the csv file.\n",
    "- Some images might be broken in this notebook as images are not included with this submission.\n",
    "- stats from scipy has been imported (in the modules import cell) to be used in a later part of the notebook. Also, a comment has been added in the modules import cell.\n",
    "- Cells marked \\#EXTRA do not add to the solution to the problem, but they do help understanding the solutions better. They also expand on the primary solution and offer additional insights into the problem. I decided to include them with this notebook as they better describe my flow of thoughts while going about solving the problems."
   ]
  },
  {
   "cell_type": "markdown",
   "id": "36c2b071-0d71-441d-8c57-7705cd0bf232",
   "metadata": {
    "tags": []
   },
   "source": [
    "#### Task 1"
   ]
  },
  {
   "cell_type": "code",
   "execution_count": 3,
   "id": "81863edb-6cf0-49ba-9903-04964147c43f",
   "metadata": {},
   "outputs": [],
   "source": [
    "# calculate the discrete Fourier transform (DFT) of all the variables\n",
    "# we use fft.rfft function available in the numpy module, since all the functions we have here are real valued\n",
    "# rfft returns N/2 instead of N DFT components\n",
    "# this is because the DFT of a real valued function has only N/2 distinct components, the other N/2 being their complex conjugates\n",
    "seaSurfaceDFT = np.fft.rfft(seaSurface) # sea surface DFT\n",
    "tiltDFT = np.fft.rfft(tilt) # tilt DFT\n",
    "mooringDFT = np.fft.rfft(mooring) # mooring DFT\n",
    "nacAccDFT = np.fft.rfft(nacAcc) # nacelle acceleration DFT\n",
    "towerMomDFT = np.fft.rfft(towerMom) # tower moment DFT\n",
    "windSpeedDFT = np.fft.rfft(windSpeed) # wind speed DFT"
   ]
  },
  {
   "cell_type": "code",
   "execution_count": 4,
   "id": "8e827ee4-213f-432b-9621-af94137374bc",
   "metadata": {},
   "outputs": [
    {
     "name": "stdout",
     "output_type": "stream",
     "text": [
      "Do frequency components from the above methods differ by more than 1e-3?\n",
      "False\n"
     ]
    }
   ],
   "source": [
    "# calculate the corresponding frequency components using fft.rfftfreq available in the numpy module\n",
    "DFTfreq = np.fft.rfftfreq(len(t), (t[1]-t[0])) # the second argument is the sample width\n",
    "# calculate the corresponding frequency components directly using Nyquist-Shannon sampling theorem\n",
    "DFTfreq2 = np.linspace(0, 1/(t[1]-t[0])/2, int(len(t)/2+1))\n",
    "\n",
    "# ideally, both these frequency components should be the same\n",
    "# we check that below\n",
    "print('Do frequency components from the above methods differ by more than 1e-3?')\n",
    "print(np.any(abs(DFTfreq - DFTfreq2) > 1e-3)) # any() to check if any of the elements of the array returns True for the given condition"
   ]
  },
  {
   "cell_type": "markdown",
   "id": "2dcb548f-66d3-463a-9313-de77dd3e5174",
   "metadata": {},
   "source": [
    "**Remarks:**  \n",
    "We notice that we get the same result, up to floating point errors whether we use the in-built function or calculate the frequencies manually. We will stick to using the in-built function to avoid accidental mistakes."
   ]
  },
  {
   "cell_type": "code",
   "execution_count": null,
   "id": "de5dddad-1f64-4670-9c00-e039652e20ca",
   "metadata": {},
   "outputs": [],
   "source": [
    "# plot the discrete Fourier transforms in  a 3 row, 2 column layout\n",
    "# we plot only the absolute values and not the real and imaginary components\n",
    "# this way, the phase information is lost. This is ok since we're more interested in the frequency amplitudes\n",
    "fig, ax = plt.subplots(3, 2, figsize = (16, 16))\n",
    "\n",
    "# plotting sea surface DFT\n",
    "ax[0, 0].plot(DFTfreq, np.abs(seaSurfaceDFT), color = 'blue')\n",
    "ax[0, 0].set_title('Fourier Transform of Sea Surface vs. Frequency')\n",
    "ax[0, 0].set_xlim(0., 0.7)\n",
    "ax[0, 0].set_xlabel('Frequency [1/s]')\n",
    "ax[0, 0].set_ylabel('Fourier Transform of Sea Surface [m s]')\n",
    "\n",
    "# plotting tilt DFT - using log scale here\n",
    "ax[0, 1].plot(DFTfreq, np.abs(tiltDFT), color = 'navy')\n",
    "ax[0, 1].set_title('Fourier Transform of Tilt vs. Frequency')\n",
    "ax[0, 1].set_xlim(0., 1.)\n",
    "ax[0, 1].set_yscale('log')\n",
    "ax[0, 1].set_xlabel('Frequency [1/s]')\n",
    "ax[0, 1].set_ylabel('Fourier Transform of Tilt [deg s]')\n",
    "\n",
    "# plotting mooring DFT - using log scale here\n",
    "ax[1, 0].plot(DFTfreq, np.abs(mooringDFT), color = 'navy')\n",
    "ax[1, 0].set_title('Fourier Transform of Mooring vs. Frequency')\n",
    "ax[1, 0].set_xlim(0., 1.)\n",
    "ax[1, 0].set_yscale('log')\n",
    "ax[1, 0].set_xlabel('Frequency [1/s]')\n",
    "ax[1, 0].set_ylabel('Fourier Transform of Mooring [kN s]')\n",
    "\n",
    "# plotting nacelle acceleration DFT\n",
    "ax[1, 1].plot(DFTfreq, np.abs(nacAccDFT), color = 'blue')\n",
    "ax[1, 1].set_title('Fourier Transform of Nacelle Acceleration vs. Frequency')\n",
    "ax[1, 1].set_xlim(0, 0.7)\n",
    "ax[1, 1].set_xlabel('Frequency [1/s]')\n",
    "ax[1, 1].set_ylabel('Fourier Transform of Nacelle Acceleration [m/s^2 s]')\n",
    "\n",
    "#plotting tower moment DFT - using log scale here\n",
    "ax[2, 0].plot(DFTfreq, np.abs(towerMomDFT), color = 'navy')\n",
    "ax[2, 0].set_title('Fourier Transform of Tower Moment vs. Frequency')\n",
    "ax[2, 0].set_xlim(0., 0.7)\n",
    "ax[2, 0].set_yscale('log')\n",
    "ax[2, 0].set_xlabel('Frequency [1/s]')\n",
    "ax[2, 0].set_ylabel('Fourier Transform of Tower Moment [kNm s]')\n",
    "\n",
    "#plotting wind speed DFT - using log scale here\n",
    "ax[2, 1].plot(DFTfreq, np.abs(windSpeedDFT), color = 'navy')\n",
    "ax[2, 1].set_title('Fourier Transform of Wind Speed vs. Frequency')\n",
    "ax[2, 1].set_xlim(0, 0.4)\n",
    "ax[2, 1].set_yscale('log')\n",
    "ax[2, 1].set_xlabel('Frequency [1/s]')\n",
    "ax[2, 1].set_ylabel('Fourier Transform of Wind Speed [m/s s]')\n",
    "\n",
    "fig.show()"
   ]
  },
  {
   "cell_type": "markdown",
   "id": "db9756ab-d9e2-4c9c-a0a6-d24a06dc9842",
   "metadata": {},
   "source": [
    "**Remarks:**\n",
    "- We notice that most of the frequencies are small. Therefore, we choose appropriate x-axis limits.\n",
    "- We have used logarithmic scale for the plots of tilt, mooring, tower moment and wind speed. These are plotted with navy, whereas normal plots are blue. This is mainly done because the plots don't look very nice when normal scale is used.\n",
    "- We should also notice that the peaks are not as prominent when logarithmic scale is used. Is it possible to see the peaks better? We get back to this after tackling the main tasks."
   ]
  },
  {
   "cell_type": "code",
   "execution_count": null,
   "id": "31a8ea1b-c871-41f0-8fb6-85e138429ee9",
   "metadata": {},
   "outputs": [],
   "source": [
    "maxindSSDFT = np.argmax(seaSurfaceDFT) # argument of maximum amplitude of sea surface DFT\n",
    "maxfreq = DFTfreq[maxindSSDFT] # corresponding frequency\n",
    "freqdelta = DFTfreq[1] - DFTfreq[0] # frequency resolution - use this to calculate the uncertainty\n",
    "# the frequency that we report here depends on the frequency resolution, which in turn is determined by Nyquist-Shannon sampling theorem\n",
    "# the frequency resolution then determines the uncertainty in our result\n",
    "\n",
    "# print the results\n",
    "print(\"Results for Sea Surface Spectrum\")\n",
    "print(\"**********\")\n",
    "# we round frequencies to 4 deceimals and time periods to 2 decimals\n",
    "print(\"Frequency with the highest amplitude:\", round(maxfreq, 4), \"s^-1\") # frequency\n",
    "print(\"Uncertainty in Frequency:\", round(freqdelta, 4), \"s^-1\") # uncertainty in frequency - frequency resolution\n",
    "print(\"Corresponding Period:\", round(1/maxfreq, 2), \"sec\") # time period\n",
    "# time period corresponding to the lower and upper end of the time period after accounting for the uncertainty\n",
    "print(\"Corresponding Time Period Range:\", round(1/(maxfreq + freqdelta), 2), \"-\", round(1/(maxfreq - freqdelta), 2), \"sec\")"
   ]
  },
  {
   "cell_type": "markdown",
   "id": "c24cff4d-dd22-4cfe-9f2f-34c21298ec61",
   "metadata": {},
   "source": [
    "**Remarks:**  \n",
    "- We have also included the corresponding uncertainty in the frequency in our results. This uncertainty arises from the frequency resolution calculated using Nyquist-Shannon sampling theorem. But it should be noted that the uncertainty is very small in this case. This is because we have a large number of points.\n",
    "- The reason for including uncertainty will be more clear in the latter half of the project, where we reduce noise by averaging over the Fourier transforms of bits of spectra."
   ]
  },
  {
   "cell_type": "code",
   "execution_count": null,
   "id": "760b3da4-f589-4479-b47a-fdfa4c073db7",
   "metadata": {},
   "outputs": [],
   "source": [
    "# plot the Fourier transforms of nacelle acceleration and tower moment to see the correlation\n",
    "fig, ax = plt.subplots(1, 2, figsize = (16, 4))\n",
    "\n",
    "# primary plot - using log scale here\n",
    "ax[0].plot(DFTfreq, np.abs(nacAccDFT), color = 'blue', label = 'Nac. Acc. [m/s^2 s]')\n",
    "ax[0].plot(DFTfreq, np.abs(towerMomDFT), color = 'red', label = 'Tower Mom. [kNm s]')\n",
    "ax[0].set_title('Fourier Transform of Nacelle Acceleration and Tower Moment')\n",
    "ax[0].set_xlim(0., 0.5)\n",
    "ax[0].set_yscale('log')\n",
    "ax[0].set_xlabel('Frequency [1/s]')\n",
    "ax[0].set_ylabel('Fourier Transform')\n",
    "ax[0].legend(loc = 'upper right')\n",
    "\n",
    "# zoomed in plot (0.08, 0.12) - using log scale here\n",
    "ax[1].plot(DFTfreq, np.abs(nacAccDFT), color = 'blue', label = 'Nac. Acc. [m/s^2 s]')\n",
    "ax[1].plot(DFTfreq, np.abs(towerMomDFT), color = 'red', label = 'Tower Mom. [kNm s]')\n",
    "ax[1].set_title('Fourier Transform of Nacelle Acceleration and Tower Moment (Zoomed in)')\n",
    "ax[1].set_xlim(0.08, 0.12)\n",
    "ax[1].set_yscale('log')\n",
    "ax[1].set_xlabel('Frequency [1/s]')\n",
    "ax[1].set_ylabel('Fourier Transform')\n",
    "ax[1].legend(loc = 'lower right')\n",
    "\n",
    "fig.show()"
   ]
  },
  {
   "cell_type": "markdown",
   "id": "979eeafa-e6bf-4011-b649-1321e93f6526",
   "metadata": {},
   "source": [
    "**Remarks:**  \n",
    "We can clearly see the correlation between nacelle acceleration and tower moment in the above plots. This should not come as a surprise as any correlation between different quantities should also reflect in their conjugate quantities. Logarithmic scale is particularly useful to see the correlation here."
   ]
  },
  {
   "cell_type": "code",
   "execution_count": null,
   "id": "e21aa59a-22d2-4d81-af46-13e3508b733f",
   "metadata": {},
   "outputs": [],
   "source": [
    "# scatter plot to see the correlation between Fourier transforms of nacelle acceleration and tower moment\n",
    "# we normalise both the Fourier transforms with respect to the maximum value\n",
    "# we also skip the zeroth component - see discussion\n",
    "nacAccDFTmax = np.max(nacAccDFT[1:])\n",
    "towerMomDFTmax = np.max(towerMomDFT[1:])\n",
    "# create a list of normalised Fourier transform values\n",
    "nacAccDFTnorm = [i/nacAccDFTmax for i in nacAccDFT[1:]]\n",
    "towerMomDFTnorm = [i/towerMomDFTmax for i in towerMomDFT[1:]]\n",
    "# we don't need to convert the above variables to np.array since we won't be using them other than here for plotting\n",
    "\n",
    "# plot nacelle acceleration vs. tower moment normalised Fourier transforms\n",
    "plt.plot(np.abs(nacAccDFTnorm), np.abs(towerMomDFTnorm), '.', color = 'green')\n",
    "plt.title('Tower Moment vs. Nacelle Acceleration\\n(Normalised Fourier Transforms)')\n",
    "plt.xlabel('Tower Moment [kNm s]')\n",
    "plt.ylabel('Nacelle Acceleration [m/s^2 s]')\n",
    "plt.show()\n",
    "\n",
    "# calculate the correlation coefficient using stats.pearsonr\n",
    "print(\"Correlation coefficient:\", round(stats.pearsonr(np.abs(nacAccDFT)[1:], np.abs(towerMomDFT)[1:])[0], 2))"
   ]
  },
  {
   "cell_type": "markdown",
   "id": "82f9cc72-8001-45ed-b1a9-38b5671ff31e",
   "metadata": {},
   "source": [
    "**Remarks:**  \n",
    "The above scatter plots confirms that nacelle acceleration and tower moment are, in fact, well correlated. We can see this from the points being distributed along a diagonal line. The calculated correlation coefficient is also close to $1$. It should be noted that we have removed the zeroth component in our plot and correlation coefficient calculation. The reason lies in the very nature of how these quantities oscillate. In the case of mooring, we have a non-zero zero frequency component, whereas nacelle acceleration does not have this. This spoils the correlation coefficient. But is it fine to just ignore this component then? This is discussed below."
   ]
  },
  {
   "cell_type": "code",
   "execution_count": null,
   "id": "89e6ec7f-4420-4950-93c9-560d0a2e17f0",
   "metadata": {},
   "outputs": [],
   "source": [
    "# EXTRA\n",
    "# plot the quantities and find out about which point they oscillate\n",
    "fig, ax = plt.subplots(3, 2, figsize = (16, 16))\n",
    "\n",
    "# plot sea surface\n",
    "ax[0, 0].plot(t, seaSurface, color = 'blue')\n",
    "ax[0, 0].axhline(np.mean(seaSurface), color = 'red', label = 'mean') # plot a horizontal line corresponding to the mean\n",
    "ax[0, 0].set_title('Sea Surface vs. Time')\n",
    "ax[0, 0].set_xlabel('t [s]')\n",
    "ax[0, 0].set_ylabel('Sea Surface [m s]')\n",
    "ax[0, 0].legend(loc = 'lower left')\n",
    "\n",
    "# plot tilt\n",
    "ax[0, 1].plot(t, tilt, color = 'blue')\n",
    "ax[0, 1].axhline(np.mean(tilt), color = 'red', label = 'mean') # plot a horizontal line corresponding to the mean\n",
    "ax[0, 1].set_title('Tilt vs. Time')\n",
    "ax[0, 1].set_xlabel('t [s]')\n",
    "ax[0, 1].set_ylabel('Tilt [deg s]')\n",
    "ax[0, 1].legend(loc = 'lower left')\n",
    "\n",
    "#plot mooring\n",
    "ax[1, 0].plot(t, mooring, color = 'blue')\n",
    "ax[1, 0].axhline(np.mean(mooring), color = 'red', label = 'mean') # plot a horizontal line corresponding to the mean\n",
    "ax[1, 0].set_title('Mooring vs. Time')\n",
    "ax[1, 0].set_xlabel('t [s]')\n",
    "ax[1, 0].set_ylabel('Mooring [kN s]')\n",
    "ax[1, 0].legend(loc = 'lower left')\n",
    "\n",
    "#plot nacelle acceleration\n",
    "ax[1, 1].plot(t, nacAcc, color = 'blue')\n",
    "ax[1, 1].axhline(np.mean(nacAcc), color = 'red', label = 'mean') # plot a horizontal line corresponding to the mean\n",
    "ax[1, 1].set_title('Nacelle Acceleration vs. Time')\n",
    "ax[1, 1].set_xlabel('t [s]')\n",
    "ax[1, 1].set_ylabel('Nacelle Acceleration [m/s^2 s]')\n",
    "ax[1, 1].legend(loc = 'lower left')\n",
    "\n",
    "# plot tower moment\n",
    "ax[2, 0].plot(t, towerMom, color = 'blue')\n",
    "ax[2, 0].axhline(np.mean(towerMom), color = 'red', label = 'mean') # plot a horizontal line corresponding to the mean\n",
    "ax[2, 0].set_title('Tower Moment vs. Time')\n",
    "ax[2, 0].set_xlabel('t [s]')\n",
    "ax[2, 0].set_ylabel('Tower Moment [kNm s]')\n",
    "ax[2, 0].legend(loc = 'lower left')\n",
    "\n",
    "# plot wind speed\n",
    "ax[2, 1].plot(t, windSpeed, color = 'blue')\n",
    "ax[2, 1].axhline(np.mean(windSpeed), color = 'red', label = 'mean') # plot a horizontal line corresponding to the mean\n",
    "ax[2, 1].set_title('Wind Speed vs. Time')\n",
    "ax[2, 1].set_xlabel('t [s]')\n",
    "ax[2, 1].set_ylabel('Wind Speed [m/s s]')\n",
    "ax[2, 1].legend(loc = 'lower left')\n",
    "\n",
    "fig.show()"
   ]
  },
  {
   "cell_type": "markdown",
   "id": "1188f5a2-f96a-4a3d-a193-874121676dd0",
   "metadata": {},
   "source": [
    "**Remarks:**  \n",
    "We notice here that tilt, mooring, tower moment and wind speed oscillate about non-zero values. These are the same plots that required logarithmic scale earlier. The zeroth component of mooring ruined correlation coefficient, if not omitted. So what is happening here?  \n",
    "Whenever we calculate the DFT of a function that oscillates about a non-zero value, we get a zero frequency component in our DFT. Fourier transforms can be seen as an expansion about an orthonormal basis (of periodic functions) and the zeroth component corresponds to a constant that tells exactly how much the transform should be shifted overall, to match the original function.  \n",
    "In our analysis, we are more interested in the oscillations themselves. Therefore, it is safe to omit the zeroth component. However, for the sake of completeness, we won't omit this point unless absolutely required."
   ]
  },
  {
   "cell_type": "code",
   "execution_count": null,
   "id": "383fa0ea-1716-473a-b909-a17b0708db97",
   "metadata": {},
   "outputs": [],
   "source": [
    "# EXTRA\n",
    "# plot the Fourier transforms omitting the zeroth component using normal scale, in a 2 row 2 column layout\n",
    "fig, ax = plt.subplots(2, 2, figsize = (16, 12))\n",
    "\n",
    "# plot tilt DFT\n",
    "ax[0, 0].plot(DFTfreq[1:], np.abs(tiltDFT[1:]), color = 'blue')\n",
    "ax[0, 0].set_title('Fourier Transform of Tilt vs. Frequency')\n",
    "ax[0, 0].set_xlim(0., 0.5)\n",
    "ax[0, 0].set_xlabel('Frequency [1/s]')\n",
    "ax[0, 0].set_ylabel('Fourier Transform of Tilt [deg s]')\n",
    "\n",
    "# plot mooring DFT\n",
    "ax[0, 1].plot(DFTfreq[1:], np.abs(mooringDFT[1:]), color = 'blue')\n",
    "ax[0, 1].set_title('Fourier Transform of Mooring vs. Frequency')\n",
    "ax[0, 1].set_xlim(0., 0.5)\n",
    "ax[0, 1].set_xlabel('Frequency [1/s]')\n",
    "ax[0, 1].set_ylabel('Fourier Transform of Mooring [kN s]')\n",
    "\n",
    "# plot tower moment DFT\n",
    "ax[1, 0].plot(DFTfreq[1:], np.abs(towerMomDFT[1:]), color = 'blue')\n",
    "ax[1, 0].set_title('Fourier Transform of Tower Moment vs. Frequency')\n",
    "ax[1, 0].set_xlim(0., 0.5)\n",
    "ax[1, 0].set_xlabel('Frequency [1/s]')\n",
    "ax[1, 0].set_ylabel('Fourier Transform of Tower Moment [kNm s]')\n",
    "\n",
    "# plot wind speed DFT\n",
    "ax[1, 1].plot(DFTfreq[1:], np.abs(windSpeedDFT[1:]), color = 'blue')\n",
    "ax[1, 1].set_title('Fourier Transform of Wind Speed vs. Frequency')\n",
    "ax[1, 1].set_xlim(0, 0.5)\n",
    "ax[1, 1].set_xlabel('Frequency [1/s]')\n",
    "ax[1, 1].set_ylabel('Fourier Transform of Wind Speed [m/s s]')\n",
    "\n",
    "fig.show()"
   ]
  },
  {
   "cell_type": "markdown",
   "id": "fb933e30-2985-4cb8-a90e-db299aeb577b",
   "metadata": {},
   "source": [
    "**Remarks:**  \n",
    "We now see that logarithmic scale is not necessary, if the zeroth component is omitted. The peaks are more prominent too."
   ]
  },
  {
   "cell_type": "markdown",
   "id": "ddc126c3-a80d-43ae-91fb-b6bd6a3c39da",
   "metadata": {},
   "source": [
    "#### Task 2"
   ]
  },
  {
   "cell_type": "code",
   "execution_count": null,
   "id": "b1ff792e-159f-41ea-b10d-e95835e07dfc",
   "metadata": {},
   "outputs": [],
   "source": [
    "# function to calculate the average of fourier transforms of bits of a function\n",
    "def spectralavgDFT(t, f, n):\n",
    "    \"\"\"\n",
    "    This function takes in three arguments - a time series, some function (of time) and the number of bits to perform spectral average\n",
    "    and returns the spectral averaged DFT of the function and the corresponding frequency series.\n",
    "    Specifically, this function returns the real components of the averaged DFT, the imaginary components of the averaged DFT,\n",
    "    the absolute values of the averaged DFT and the frequency series, in that order.\n",
    "    Note that higher values of n reduces the resolution of the frequency.\n",
    "    This function works only with real valued functions, since fft.rfft is used.\n",
    "    \"\"\"\n",
    "    # reshape the time series such that the i-th row corresponds to the i-th bit\n",
    "    # a few data points at the end are excluded, so that the choice of n divides the total no. of data points\n",
    "    tbit = t[0: n*int(len(t)/n)].reshape(n, int(len(t)/n))\n",
    "    # corresponding frequencies\n",
    "    DFTfreqbit = np.fft.rfftfreq(len(tbit[0]), (tbit[0, 1] - tbit[0, 0]))\n",
    "    # reshape the function such that the i-th row corresponds to the i-th bit\n",
    "    fbit = f[0: n*int(len(f)/n)].reshape(n, int(len(f)/n))\n",
    "    # calculate the DFT of the function bits\n",
    "    # fft.rfft calculates the DFT of individual rows by default\n",
    "    fDFT = np.fft.rfft(fbit)\n",
    "    # extract the real, imaginary and absolute values of the DFT components\n",
    "    fDFT_real = np.real(fDFT)\n",
    "    fDFT_imag = np.imag(fDFT)\n",
    "    fDFT_abs = np.abs(fDFT)\n",
    "    # return the mean of real, imaginary and absolute values and the frequency series\n",
    "    return np.mean(fDFT_real, axis = 0), np.mean(fDFT_imag, axis = 0), np.mean(fDFT_abs, axis = 0), DFTfreqbit"
   ]
  },
  {
   "cell_type": "code",
   "execution_count": null,
   "id": "bcb1e6a5-5778-4745-9979-8e13a83fce38",
   "metadata": {},
   "outputs": [],
   "source": [
    "# the test function given in the problem statement\n",
    "def testfn(x, freq, noise = 0):\n",
    "    \"\"\"\n",
    "    This function implements the test function given in the problem.\n",
    "    This function takes in the array of function variable, the array containing test frequencies\n",
    "    and an optional noise (noise is set to 0 by default).\n",
    "    This function returns the values of the test function in the given domain.\n",
    "    \"\"\"\n",
    "    # first term corresponding to sum of cosines\n",
    "    s_cos = np.cos(2*np.pi*freq[:, np.newaxis]*x)\n",
    "    # add noise (0 by default)\n",
    "    s = np.sum(s_cos, axis = 0) + noise\n",
    "    return s"
   ]
  },
  {
   "cell_type": "code",
   "execution_count": null,
   "id": "9c31c848-a551-4fd5-8df2-abac25a522bc",
   "metadata": {},
   "outputs": [],
   "source": [
    "xspace = np.linspace(0, 50, 8192) # domain for the test function\n",
    "testfreq = np.array([0.1, 0.5, 0.9, 1.4, 2., 2.7, 3.5, 4.3, 5.1, 6.]) # test frequencies for the test function\n",
    "eps1 = np.random.normal(0, 0.5, 8192) # noise with sigma = 0.5\n",
    "eps2 = np.random.normal(0, 1., 8192) # noise with sigma = 1.0\n",
    "\n",
    "# plotting\n",
    "fig, ax = plt.subplots(4,3, figsize = (20,28))\n",
    "\n",
    "sDFT1 = spectralavgDFT(xspace, testfn(xspace, testfreq[:1], eps1), 1) # DFT without splitting, noise 1\n",
    "sDFT2 = spectralavgDFT(xspace, testfn(xspace, testfreq[:1], eps1), 4) # DFT with 4 bits, noise 2\n",
    "ax[0, 0].plot(xspace, testfn(xspace, testfreq[:1], eps1), color = 'red') # plot the test function\n",
    "ax[0, 0].set_title('Test Function (1 Frequency, Noise = 0.5) \\n vs. Function Variable')\n",
    "ax[0, 0].set_xlabel('x')\n",
    "ax[0, 0].set_ylabel('Test Function')\n",
    "ax[0, 1].plot(sDFT1[3], sDFT1[2], color = 'blue')\n",
    "ax[0, 1].set_title('DFT of Test Function (1 bit) vs. Frequency')\n",
    "ax[0, 1].set_xlabel('Frequency')\n",
    "ax[0, 1].set_ylabel('DFT of Test Function')\n",
    "ax[0, 1].set_xlim(0, 3)\n",
    "ax[0, 2].plot(sDFT2[3], sDFT2[2], color = 'blue')\n",
    "ax[0, 2].set_title('DFT of Test Function (4 bits) vs. Frequency')\n",
    "ax[0, 2].set_xlabel('Frequency')\n",
    "ax[0, 2].set_ylabel('DFT of Test Function')\n",
    "ax[0, 2].set_xlim(0, 6)\n",
    "\n",
    "sDFT1 = spectralavgDFT(xspace, testfn(xspace, testfreq[:3], eps2), 1) # DFT without splitting, noise 2\n",
    "sDFT2 = spectralavgDFT(xspace, testfn(xspace, testfreq[:3], eps2), 4) # DFT with 4 bits, noise 2\n",
    "ax[1, 0].plot(xspace, testfn(xspace, testfreq[:3], eps2), color = 'red') # plot the test function\n",
    "ax[1, 0].set_title('Test Function (3 Frequencies, Noise = 1.0) \\n vs. Function Variable')\n",
    "ax[1, 0].set_xlabel('x')\n",
    "ax[1, 0].set_ylabel('Test Function')\n",
    "ax[1, 1].plot(sDFT1[3], sDFT1[2], color = 'blue')\n",
    "ax[1, 1].set_title('DFT of Test Function (1 bit) vs. Frequency')\n",
    "ax[1, 1].set_xlabel('Frequency')\n",
    "ax[1, 1].set_ylabel('DFT of Test Function')\n",
    "ax[1, 1].set_xlim(0, 3)\n",
    "ax[1, 2].plot(sDFT2[3], sDFT2[2], color = 'blue')\n",
    "ax[1, 2].set_title('DFT of Test Function (4 bits) vs. Frequency')\n",
    "ax[1, 2].set_xlabel('Frequency')\n",
    "ax[1, 2].set_ylabel('DFT of Test Function')\n",
    "ax[1, 2].set_xlim(0, 6)\n",
    "\n",
    "sDFT1 = spectralavgDFT(xspace, testfn(xspace, testfreq[:5], eps1), 1) # DFT without splitting, noise 1\n",
    "sDFT2 = spectralavgDFT(xspace, testfn(xspace, testfreq[:5], eps1), 4) # DFT with 4 bits, noise 1\n",
    "ax[2, 0].plot(xspace, testfn(xspace, testfreq[:5], eps1), color = 'red') # plot the test function\n",
    "ax[2, 0].set_title('Test Function (5 Frequencies, Noise = 0.5) \\n vs. Function Variable')\n",
    "ax[2, 0].set_xlabel('x')\n",
    "ax[2, 0].set_ylabel('Test Function')\n",
    "ax[2, 1].plot(sDFT1[3], sDFT1[2], color = 'blue')\n",
    "ax[2, 1].set_title('DFT of Test Function (1 bit) vs. Frequency')\n",
    "ax[2, 1].set_xlabel('Frequency')\n",
    "ax[2, 1].set_ylabel('DFT of Test Function')\n",
    "ax[2, 1].set_xlim(0, 3)\n",
    "ax[2, 2].plot(sDFT2[3], sDFT2[2], color = 'blue')\n",
    "ax[2, 2].set_title('DFT of Test Function (4 bits) vs. Frequency')\n",
    "ax[2, 2].set_xlabel('Frequency')\n",
    "ax[2, 2].set_ylabel('DFT of Test Function')\n",
    "ax[2, 2].set_xlim(0, 6)\n",
    "\n",
    "sDFT1 = spectralavgDFT(xspace, testfn(xspace, testfreq[:10], eps2), 1) # DFT without splitting, noise 2\n",
    "sDFT2 = spectralavgDFT(xspace, testfn(xspace, testfreq[:10], eps2), 4) # DFT with 4 bits, noise 2\n",
    "ax[3, 0].plot(xspace, testfn(xspace, testfreq[:10], eps2), color = 'red') # plot the test function\n",
    "ax[3, 0].set_title('Test Function (10 Frequencies, Noise = 1.0) \\n vs. Function Variable')\n",
    "ax[3, 0].set_xlabel('x')\n",
    "ax[3, 0].set_ylabel('Test Function')\n",
    "ax[3, 1].plot(sDFT1[3], sDFT1[2], color = 'blue')\n",
    "ax[3, 1].set_title('DFT of Test Function (1 bit) vs. Frequency')\n",
    "ax[3, 1].set_xlabel('Frequency')\n",
    "ax[3, 1].set_ylabel('DFT of Test Function')\n",
    "ax[3, 1].set_xlim(0, 7)\n",
    "ax[3, 2].plot(sDFT2[3], sDFT2[2], color = 'blue')\n",
    "ax[3, 2].set_title('DFT of Test Function (4 bits) vs. Frequency')\n",
    "ax[3, 2].set_xlabel('Frequency')\n",
    "ax[3, 2].set_ylabel('DFT of Test Function')\n",
    "ax[3, 2].set_xlim(0, 14)\n",
    "\n",
    "fig.show()"
   ]
  },
  {
   "cell_type": "markdown",
   "id": "72b1559d-a5cf-4e59-a318-b120b9cbea22",
   "metadata": {},
   "source": [
    "**Remarks:**  \n",
    "- We can clearly see from the above plots that the noise has reduced. But we should also note that the peaks are very sharp even without applying this method. This method will prove more useful when it gets difficult to extract the actual peaks because of noise.\n",
    "- It should be noted that even though this method reduces noise, it also decreases the frequency resolution. This can be seen from the second plots being not as dense, even though the x-axis limits are twice that of the first plots. We suggest that a combination of different slices of the function should be used if physical quantities are to be extracted from the plots."
   ]
  },
  {
   "cell_type": "code",
   "execution_count": null,
   "id": "b506d494-0f20-4af0-b975-4d785e36bc98",
   "metadata": {},
   "outputs": [],
   "source": [
    "seaSurfaceAvgDFT1 = spectralavgDFT(t, seaSurface, 1) # sea surface DFT, without splitting\n",
    "seaSurfaceAvgDFT2 = spectralavgDFT(t, seaSurface, 2) # sea surface DFT, 2 bits\n",
    "seaSurfaceAvgDFT4 = spectralavgDFT(t, seaSurface, 4) # sea surface DFT, 4 bits\n",
    "seaSurfaceAvgDFT8 = spectralavgDFT(t, seaSurface, 8) # sea surface DFT, 8 bits\n",
    "seaSurfaceAvgDFT16 = spectralavgDFT(t, seaSurface, 16) # sea surface DFT, 16 bits\n",
    "\n",
    "# calculate the frequencies with highest amplitudes for the above DFTs\n",
    "peakfreq1 = seaSurfaceAvgDFT1[3][np.argmax(seaSurfaceAvgDFT1[2])]\n",
    "peakfreq2 = seaSurfaceAvgDFT2[3][np.argmax(seaSurfaceAvgDFT2[2])]\n",
    "peakfreq4 = seaSurfaceAvgDFT4[3][np.argmax(seaSurfaceAvgDFT4[2])]\n",
    "peakfreq8 = seaSurfaceAvgDFT8[3][np.argmax(seaSurfaceAvgDFT8[2])]\n",
    "peakfreq16 = seaSurfaceAvgDFT16[3][np.argmax(seaSurfaceAvgDFT16[2])]\n",
    "\n",
    "# we round the values to 4 decimals\n",
    "print(\"Frequencies with Highest Amplitude for Sea Surface Spectrum\")\n",
    "print(\"**********\")\n",
    "print(\"1 Bit :\", round(peakfreq1, 4), \"s^-1\")\n",
    "print(\"2 Bits :\", round(peakfreq2, 4), \"s^-1\")\n",
    "print(\"4 Bits :\", round(peakfreq4, 4), \"s^-1\")\n",
    "print(\"8 Bits :\", round(peakfreq8, 4), \"s^-1\")\n",
    "print(\"16 Bits :\", round(peakfreq16, 4), \"s^-1\")\n",
    "\n",
    "# calculate the standard deviation in the values corresponding to 1, 2, 4, 8 and 16 bits\n",
    "print(\"**********\")\n",
    "print(\"Standard Deviation of the values\", round(np.std([peakfreq1, peakfreq2, peakfreq4, peakfreq8, peakfreq16])*100, 3), \"%\")"
   ]
  },
  {
   "cell_type": "markdown",
   "id": "a4fd11f8-2007-40bb-9e87-4adbf6f01502",
   "metadata": {},
   "source": [
    "**Remarks:**  \n",
    "We can see that the frequency with the highest amplitude does not vary much up until average over 16 bits. Therefore, we are able to reduce noise without sacrificing the accuracy of our result."
   ]
  },
  {
   "cell_type": "code",
   "execution_count": null,
   "id": "5c9981a5-07f8-4f06-b5c6-c8ae552d9beb",
   "metadata": {},
   "outputs": [],
   "source": [
    "# tower moment DFT, 20 bits\n",
    "towerMomAvgDFT = spectralavgDFT(t, towerMom, 20)\n",
    "\n",
    "# plotting\n",
    "plt.plot(towerMomAvgDFT[3][1:], towerMomAvgDFT[2][1:], color = 'blue') #we skip the zeroth component again\n",
    "plt.title('Fourier Transform of Tower Moment vs. Frequency\\nSpectral Averaged (20 bits)')\n",
    "plt.xlabel('Frequency [1/s]')\n",
    "plt.ylabel('Fourier Transform of Tower Moment [kNm s]')\n",
    "plt.xlim(0, 1)\n",
    "plt.yscale('log')\n",
    "plt.show()"
   ]
  },
  {
   "cell_type": "code",
   "execution_count": null,
   "id": "1042458c-f15f-4f4a-b798-d1405bef72f6",
   "metadata": {},
   "outputs": [],
   "source": [
    "# tower moment DFT, 20 bits\n",
    "towerMomAvgDFT = spectralavgDFT(t, towerMom, 20)\n",
    "\n",
    "# we restrict ourselves to frequency less than 0.2, since we are interested only in the first two peaks\n",
    "towerMomAvgDFTabsslice = towerMomAvgDFT[2][towerMomAvgDFT[3] < 0.2]\n",
    "towerMomAvgDFTfreqslice = towerMomAvgDFT[3][towerMomAvgDFT[3] < 0.2]\n",
    "\n",
    "# find the indices of maxima\n",
    "# this method was discussed in the first project\n",
    "maxind = np.where((towerMomAvgDFTabsslice[0:-2] <= towerMomAvgDFTabsslice[1:-1]) & (towerMomAvgDFTabsslice[2:] <= towerMomAvgDFTabsslice[1:-1]))[0] + 1\n",
    "\n",
    "# plotting, using log scale\n",
    "plt.plot(towerMomAvgDFT[3][1:], towerMomAvgDFT[2][1:], color = 'blue')\n",
    "plt.plot(towerMomAvgDFT[3][maxind], towerMomAvgDFT[2][maxind], 'o', color = 'red', label = 'maxima') # plot the maxima\n",
    "plt.title('Fourier Transform of Tower Moment vs. Frequency\\nSpectral Averaged (20 bits)')\n",
    "plt.xlabel('Frequency [1/s]')\n",
    "plt.ylabel('Fourier Transform of Tower Moment [kNm s]')\n",
    "plt.xlim(0, 0.2)\n",
    "plt.yscale('log')\n",
    "plt.legend(loc = 'lower right')\n",
    "plt.show()\n",
    "\n",
    "# we notice the peak indices from the plot and use them here\n",
    "eigenfreq = towerMomAvgDFT[3][maxind[0]] # this is the first peak\n",
    "freqdelta = towerMomAvgDFT[3][1] - towerMomAvgDFT[3][0] # uncertainty in the frequency\n",
    "# we round frequencies to 3 decimals and time periods to 2 decimals\n",
    "print(\"Tower Moment eigenfrequency:\", round(eigenfreq, 3), \"s^-1\")\n",
    "print(\"Uncertainty in eigenfrequency: +-\", round(freqdelta, 3), \"s^-1\")\n",
    "print(\"Corresponding Time Period:\", round(1/eigenfreq, 2), \"sec\")\n",
    "print(\"Corresponding Time Period Range:\", round(1/(eigenfreq + freqdelta), 2), \"-\", round(1/(eigenfreq - freqdelta), 2), \"sec\")"
   ]
  },
  {
   "cell_type": "markdown",
   "id": "f6151297-ae5c-4d4e-956b-7726624eaa01",
   "metadata": {},
   "source": [
    "**Remarks:**  \n",
    "- As mentioned the problem statement, we have two prominent peaks. The first peak should be the turbine eigenfrequency, since we don't find this peak in the sea surface DFT. The second peak can also be found in sea surface DFT and other DFTs as well, so this cannot be the turbine eigenfrequency.\n",
    "- We should note that the above result has quite a big uncertainty in it. This is because we are averaging over $20$ bits and this reduces the resolution drastically. In our case, we have $900$ points in the frequency series compared to the initial $18000$ points! To improve our result, we should test with a lower number of bits. But this, obviously, increases noise. So we should combine both these and find a balance to achieve the final result. This was what was mentioned earlier."
   ]
  },
  {
   "cell_type": "code",
   "execution_count": null,
   "id": "717ce284-c3a1-495c-afb8-b3e782837460",
   "metadata": {},
   "outputs": [],
   "source": [
    "# tower moment DFT, 4 bits\n",
    "towerMomAvgDFT = spectralavgDFT(t, towerMom, 4)\n",
    "\n",
    "# we restrict ourselves to frequency less than 0.2, since we are interested only in the first two peaks\n",
    "towerMomAvgDFTabsslice = towerMomAvgDFT[2][towerMomAvgDFT[3] < 0.2]\n",
    "towerMomAvgDFTfreqslice = towerMomAvgDFT[3][towerMomAvgDFT[3] < 0.2]\n",
    "\n",
    "# find the indices of maxima\n",
    "# this method was discussed in the first project\n",
    "maxind = np.where((towerMomAvgDFTabsslice[0:-2] <= towerMomAvgDFTabsslice[1:-1]) & (towerMomAvgDFTabsslice[2:] <= towerMomAvgDFTabsslice[1:-1]))[0] + 1\n",
    "\n",
    "# plotting, using log scale\n",
    "plt.plot(towerMomAvgDFT[3][1:], towerMomAvgDFT[2][1:], color = 'blue')\n",
    "plt.plot(towerMomAvgDFT[3][maxind], towerMomAvgDFT[2][maxind], '.', color = 'red', label = 'maxima') # plot the maxima\n",
    "plt.title('Fourier Transform of Tower Moment vs. Frequency\\nSpectra Averaged (4 bits)')\n",
    "plt.xlabel('Frequency [1/s]')\n",
    "plt.ylabel('Fourier Transform of Tower Moment [kNm s]')\n",
    "plt.xlim(0, 0.2)\n",
    "plt.yscale('log')\n",
    "plt.legend(loc = 'lower right')\n",
    "plt.show()\n",
    "\n",
    "# we notice the peak indices from the plot and use them here\n",
    "eigenfreq = towerMomAvgDFT[3][maxind[5]] # this is the first actual peak, 6th peak in our plot\n",
    "freqdelta = towerMomAvgDFT[3][1] - towerMomAvgDFT[3][0] # uncertainty in the frequency\n",
    "# we round frequencies to 3 decimals and time periods to 2 decimals\n",
    "print(\"Tower Moment eigenfrequency:\", round(eigenfreq, 3), \"s^-1\")\n",
    "print(\"Uncertainty in eigenfrequency: +-\", round(freqdelta, 3), \"s^-1\")\n",
    "print(\"Corresponding Time Period:\", round(1/eigenfreq, 2), \"sec\")\n",
    "print(\"Corresponding Time Period Range:\", round(1/(eigenfreq + freqdelta), 2), \"-\", round(1/(eigenfreq - freqdelta), 2), \"sec\")"
   ]
  },
  {
   "cell_type": "markdown",
   "id": "489e30ed-cc64-4452-aced-dbdb34736876",
   "metadata": {},
   "source": [
    "**Remarks:**  \n",
    "We see that we have improved our uncertainty drastically. We are roughly within $2$ seconds of $45$ seconds for the time period. If we try to reduce the bits further, we end up with a plot that has much higher noise and it is almost impossible to spot the actual peaks."
   ]
  },
  {
   "cell_type": "code",
   "execution_count": null,
   "id": "acc1b217-6d31-4e3a-a552-70feff1b1d8d",
   "metadata": {},
   "outputs": [],
   "source": [
    "# EXTRA\n",
    "n = np.linspace(1, 50, 50) # test bits, (1, 2, 3, ..., 50)\n",
    "peakfreqarray = np.zeros(len(n)) # array to store the peak frequencies\n",
    "\n",
    "for i in n:\n",
    "    seaSurfaceAvgDFTextra = spectralavgDFT(t, seaSurface, int(i)) # calculate the averaged DFT for a particular n-value\n",
    "    peakfreqarray[int(i) - 1] = (seaSurfaceAvgDFTextra[3][np.argmax(seaSurfaceAvgDFTextra[2])]) # store the frequency with highest amplitude\n",
    "\n",
    "# plotting\n",
    "plt.plot(n, peakfreqarray, '.-')\n",
    "plt.title('Frequency with Highest Amplitude vs. No. of Bits for Spectral Average')\n",
    "plt.xlabel('No. of Bits for Spectral Average (n)')\n",
    "plt.ylabel('Frequency with Highest Amplitude [1/s]')\n",
    "plt.show()"
   ]
  },
  {
   "cell_type": "markdown",
   "id": "f70391c7-5e82-4fcc-9f3c-08fad2440acd",
   "metadata": {},
   "source": [
    "**Remarks:**  \n",
    "We briefly investigate the effect of $n$ on our calculations. We see that initially the frequency corresponding to the highest amplitude does not change much, but blows up for higher values of $n$. This is not surprising, since higher values of $n$ have very low frequency resolution. For example $n = 50$ contains only about $180$ points in the frequency series, in our case. This results in a very large uncertainty in the frequency. Therefore, we should limit ourselves to smaller values of $n$."
   ]
  },
  {
   "cell_type": "markdown",
   "id": "79893761-b6d3-4afc-98fa-8b6aad6dca29",
   "metadata": {},
   "source": [
    "#### Task 3"
   ]
  },
  {
   "cell_type": "code",
   "execution_count": null,
   "id": "92d1c30a-1fe2-4589-a3e9-4387049817a7",
   "metadata": {},
   "outputs": [],
   "source": [
    "mooringAvgDFT = spectralavgDFT(t, mooring, 16) # mooring DFT, 16 bits\n",
    "mooringcumsum = np.cumsum(mooringAvgDFT[2][1:]**2) # cumulative sum of the absolute values of mooring DFT squared, omit the zeroth component\n",
    "mooringsum = np.sum(mooringAvgDFT[2][1:]**2) # calculate the total sum of the energy, omit the zeroth component\n",
    "mooringcumsum = mooringcumsum/mooringsum # normalise by total energy\n",
    "\n",
    "# plotting\n",
    "plt.plot(mooringAvgDFT[3][1:], mooringcumsum)\n",
    "plt.title('Normalised Cumulative Energy of Mooring vs. Frequency\\nSpectral Averaged (16 bits)')\n",
    "plt.xlabel('Frequency [1/s]')\n",
    "plt.ylabel('Normalised Cumulative Energy of Mooring [kJ]')\n",
    "plt.xlim(0, 0.12)\n",
    "plt.show()"
   ]
  },
  {
   "cell_type": "markdown",
   "id": "31e5cc3b-cd28-4ddf-ab39-0ba59ccbc767",
   "metadata": {},
   "source": [
    "**Remarks:**  \n",
    "We can clearly see that the second frequency carries the most energy, since the jump is more than double compared to the first frequency. This is the frequency that is observed in every plot (~$0.06$ Hz)."
   ]
  },
  {
   "cell_type": "markdown",
   "id": "36505782-762b-4f64-9482-0435c67423ab",
   "metadata": {},
   "source": [
    "#### Task 4"
   ]
  },
  {
   "cell_type": "code",
   "execution_count": null,
   "id": "30ce3fd3-777d-4ab4-8e54-10ac1f0e5be8",
   "metadata": {},
   "outputs": [],
   "source": [
    "# JONSWAP-like spectrum, taken from the problem statement\n",
    "def M(f, f0):\n",
    "    \"\"\"\n",
    "    This function takes in the frequency series and the peak frequency\n",
    "    and returns the JONSWAP-like spectrum to model Sea Surface\n",
    "    \"\"\"\n",
    "    func = (2.2e-6)/(f**5)*np.exp(-(5/4)*(f0/f)**4)*(len(f)+1)/2 # calculate the function values\n",
    "    return func"
   ]
  },
  {
   "cell_type": "code",
   "execution_count": null,
   "id": "39a39aec-5c82-423a-95e5-6b3d7b79ebc5",
   "metadata": {},
   "outputs": [],
   "source": [
    "# sea surface DFT, 10 bits\n",
    "seaSurfaceAvgDFT = spectralavgDFT(t, seaSurface, 10)\n",
    "peakfreq = seaSurfaceAvgDFT[3][np.argmax(seaSurfaceAvgDFT[2])] # calculate the peak frequency\n",
    "\n",
    "# plotting\n",
    "# first plot - observation and simulation next to each other\n",
    "fig, ax = plt.subplots(1, 2, figsize = (16, 4))\n",
    "\n",
    "ax[0].plot(seaSurfaceAvgDFT[3], seaSurfaceAvgDFT[2], color = 'blue')\n",
    "ax[0].set_title('Fourier Transform of Sea Surface vs. Frequency\\nSpectral Averaged (10 bits)')\n",
    "ax[0].set_xlabel('Frequency [1/s]')\n",
    "ax[0].set_ylabel('Fourier Transform of Sea Surface [m s]')\n",
    "ax[0].set_xlim(0, 0.2)\n",
    "\n",
    "ax[1].plot(DFTfreq[1:], M(DFTfreq[1:], peakfreq), color = 'red') # use the calculated peak frequency for JONSWAP-like spectrum\n",
    "ax[1].set_title('JONSWAP-like spectrum vs. Frequency')\n",
    "ax[1].set_xlabel('Frequency [1/s]')\n",
    "ax[1].set_ylabel('JONSWAP-like spectrum [s]')\n",
    "ax[1].set_xlim(0,0.2)\n",
    "\n",
    "fig.show()\n",
    "\n",
    "# sea surface DFT, 2 bits\n",
    "# second plot - overvation and simulation on top of each other\n",
    "seaSurfaceAvgDFT = spectralavgDFT(t, seaSurface, 2)\n",
    "peakfreq = seaSurfaceAvgDFT[3][np.argmax(seaSurfaceAvgDFT[2])] # calculate the peak frequency\n",
    "\n",
    "fig, ax = plt.subplots()\n",
    "\n",
    "ax.plot(seaSurfaceAvgDFT[3], seaSurfaceAvgDFT[2], color = 'blue')\n",
    "ax.plot(DFTfreq[1:], M(DFTfreq[1:], peakfreq), color = 'red', label = 'JONSWAP') # use the calculated peak frequency for JONSWAP-like spectrum\n",
    "ax.set_title('Fourier Transform of Sea Surface vs. Frequency\\nSpectral Averaged (10 bits)')\n",
    "ax.set_xlabel('Frequency [1/s]')\n",
    "ax.set_ylabel('Fourier Transform of Sea Surface [m s]')\n",
    "ax.set_xlim(0, 0.2)\n",
    "ax.legend()\n",
    "\n",
    "fig.show()"
   ]
  },
  {
   "cell_type": "markdown",
   "id": "a42f2ed9-d488-4f56-b8c5-b93d87c0a936",
   "metadata": {},
   "source": [
    "**Remarks:**  \n",
    "We notice that both the curves have a similar feature. Therefore, a curve of this kind can be used to model our data. Also, JONSWAP-like spectrum is taken to be a Fourier transform of a pure function of time, since no units are mentioned in the problem statement. So JONSWAP-like spectrum has the units of $sec$."
   ]
  },
  {
   "cell_type": "code",
   "execution_count": null,
   "id": "934be7c7-ac2a-4cf2-a47a-c020adcdec2c",
   "metadata": {},
   "outputs": [],
   "source": [
    "MinvDFT = np.fft.irfft(M(DFTfreq[1:], peakfreq)) #inverse DFT using fft.irfft\n",
    "\n",
    "# first plot - inverse DFT of JONSWAP-like spectrum\n",
    "fig, ax = plt.subplots(1, 2, figsize = (18, 4))\n",
    "\n",
    "ax[0].plot(t[:len(MinvDFT)], MinvDFT)\n",
    "ax[0].set_title('Inverse Fourier Transform of JONSWAP-like spectrum vs. Time')\n",
    "ax[0].set_xlabel('Time [s]')\n",
    "ax[0].set_ylabel('Inverse Fourier Tranform of JONSWAP-like spectrum')\n",
    "\n",
    "# zoomed in plot\n",
    "ax[1].plot(t[:len(MinvDFT)], MinvDFT)\n",
    "ax[1].set_title('Inverse Fourier Transform of JONSWAP-like spectrum vs. Time (Zoomed in)')\n",
    "ax[1].set_xlabel('Time [s]')\n",
    "ax[1].set_ylabel('Inverse Fourier Tranform of JONSWAP-like spectrum')\n",
    "ax[1].set_xlim(0, 180)\n",
    "\n",
    "fig.show()\n",
    "\n",
    "# second plot - actual sea surface\n",
    "fig, ax = plt.subplots(1, 2, figsize = (18, 4))\n",
    "\n",
    "ax[0].plot(t, seaSurface)\n",
    "ax[0].set_title('Sea Surface vs. Time')\n",
    "ax[0].set_xlabel('Time [s]')\n",
    "ax[0].set_ylabel('Sea Surface [m]')\n",
    "\n",
    "# zoomed in plot\n",
    "ax[1].plot(t, seaSurface)\n",
    "ax[1].set_title('Sea Surface vs. Time (Zoomed in)')\n",
    "ax[1].set_xlabel('Time [s]')\n",
    "ax[1].set_ylabel('Sea Surface [m]')\n",
    "ax[1].set_xlim(0, 180)\n",
    "\n",
    "fig.show()"
   ]
  },
  {
   "cell_type": "markdown",
   "id": "32000641-0b28-4d5d-9e05-7f66aa1c0977",
   "metadata": {},
   "source": [
    "**Remarks:**  \n",
    "The inverse DFT of JONSWAP-like spectrum looks nothing like the actual sea plot. This is because we don't have any information on the phases of the DFT of JONSWAP-like spectrum. Therefore, all the terms cancel out to give $0$ as the input signal. The edge effects are because perfect cancellations do not occur in the case of discrete points. Increasing the peak frequency, decreases the edge effects."
   ]
  },
  {
   "cell_type": "code",
   "execution_count": null,
   "id": "7ce7b8e5-9f6e-468d-972d-5dcb98d53e6f",
   "metadata": {},
   "outputs": [],
   "source": [
    "# calculate random phases to be added to our JONSWAP-like spectrum\n",
    "phi = np.random.uniform(0,2*np.pi, len(M(DFTfreq[1:], peakfreq))) # np.random is automatically reseeded every time this cell is run\n",
    "# therefore, this cell gives a different result every time this cell is run\n",
    "Mprime = M(DFTfreq[1:], peakfreq) * np.exp(1j*phi) # add the random phases to our JONSWAP-like spectrum\n",
    "MprimeinvDFT = np.fft.irfft(Mprime) # inverse DFT of the modified spectrum\n",
    "\n",
    "# plotting\n",
    "fig, ax = plt.subplots(1, 2, figsize = (16, 4))\n",
    "\n",
    "ax[0].plot(t[:len(MprimeinvDFT)], MprimeinvDFT)\n",
    "ax[0].set_title('Inverse Fourier Transform of JONSWAP-like spectrum\\nwith Added Random Phases vs. Time')\n",
    "ax[0].set_xlabel('Time [s]')\n",
    "ax[0].set_ylabel('Inverse Fourier Transform of JONSWAP-like spectrum\\nwith Added Random Phases')\n",
    "\n",
    "# zoomed in plot\n",
    "ax[1].plot(t[:len(MprimeinvDFT)], MprimeinvDFT)\n",
    "ax[1].set_title('Inverse Fourier Transform of JONSWAP-like spectrum\\nwith Added Random Phases vs. Time (Zoomed in)')\n",
    "ax[1].set_xlabel('Time [s]')\n",
    "ax[1].set_ylabel('Inverse Fourier Transform of JONSWAP-like spectrum\\nwith Added Random Phases')\n",
    "ax[1].set_xlim(0, 180)\n",
    "\n",
    "fig.show()\n",
    "\n",
    "print(\"Observations vs. Simulations\")\n",
    "print(\"**********\")\n",
    "print(\"Observed maximum height:\", np.max(seaSurface), \"m\") # max height of sea surface\n",
    "print(\"Observed minimum height:\", np.min(seaSurface), \"m\") # min height of sea surface\n",
    "print(\"Maximum height from simulations:\", round(np.max(MprimeinvDFT), 2), \"m\") # max height from simulation\n",
    "print(\"Minimum height from simulations:\", round(np.min(MprimeinvDFT), 2), \"m\") # min height from simulation\n",
    "print(\"Difference in maximum heights:\", round(abs(np.max(seaSurface) - np.max(MprimeinvDFT)), 2), \"m\") # difference in max heights\n",
    "print(\"Difference in minimum heights:\", round(abs(np.min(seaSurface) - np.min(MprimeinvDFT)), 2), \"m\") # difference in min heights\n",
    "print(\"**********\")"
   ]
  },
  {
   "cell_type": "markdown",
   "id": "b8a42494-c7eb-4163-9e71-86de69a8154d",
   "metadata": {},
   "source": [
    "**Remarks:**  \n",
    "Now the inverse DFT of JONSWAP-like spectrum looks similar to that of the actual sea surface. The maximum and minimum heights obtained from this method are comparable, although it changes every time $np.random$ is reseeded, which is by default whenever the seed is not specified explicitly. Therefore, every execution of this cell gives a new result."
   ]
  },
  {
   "cell_type": "code",
   "execution_count": null,
   "id": "6ddadec0-e7ef-4e96-aeee-1f2b4646ec7e",
   "metadata": {},
   "outputs": [],
   "source": [
    "# seed np.random with 10\n",
    "np.random.seed(10)\n",
    "# ditto from the previous cell for the following calculations\n",
    "phi1 = np.random.uniform(0,2*np.pi, len(M(DFTfreq[1:], peakfreq)))\n",
    "Mprime1 = M(DFTfreq[1:], peakfreq) * np.exp(1j*phi1)\n",
    "MprimeinvDFT1 = np.fft.irfft(Mprime1)\n",
    "# seed np.random with 25\n",
    "np.random.seed(25)\n",
    "# ditto from the previous cell for the following calculations\n",
    "phi2 = np.random.uniform(0,2*np.pi, len(M(DFTfreq[1:], peakfreq)))\n",
    "Mprime2 = M(DFTfreq[1:], peakfreq) * np.exp(1j*phi2)\n",
    "MprimeinvDFT2 = np.fft.irfft(Mprime2)\n",
    "# seed np.random with 45\n",
    "np.random.seed(45)\n",
    "# ditto from the previous cell for the following calculations\n",
    "phi3 = np.random.uniform(0,2*np.pi, len(M(DFTfreq[1:], peakfreq)))\n",
    "Mprime3 = M(DFTfreq[1:], peakfreq) * np.exp(1j*phi3)\n",
    "MprimeinvDFT3 = np.fft.irfft(Mprime3)\n",
    "\n",
    "# plotting\n",
    "fig, ax = plt.subplots(3, 1, figsize = (12, 20))\n",
    "\n",
    "ax[0].plot(t[:len(MprimeinvDFT1)], MprimeinvDFT1)\n",
    "ax[0].set_title('Inverse Fourier Transform of JONSWAP-like spectrum\\nwith Added Random Phases vs. Time')\n",
    "ax[0].set_xlabel('Time [s]')\n",
    "ax[0].set_ylabel('Inverse Fourier Transform of JONSWAP-like spectrum\\nwith Added Random Phases')\n",
    "\n",
    "ax[1].plot(t[:len(MprimeinvDFT2)], MprimeinvDFT2)\n",
    "ax[1].set_title('Inverse Fourier Transform of JONSWAP-like spectrum\\nwith Added Random Phases vs. Time')\n",
    "ax[1].set_xlabel('Time [s]')\n",
    "ax[1].set_ylabel('Inverse Fourier Transform of JONSWAP-like spectrum\\nwith Added Random Phases')\n",
    "\n",
    "ax[2].plot(t[:len(MprimeinvDFT3)], MprimeinvDFT3)\n",
    "ax[2].set_title('Inverse Fourier Transform of JONSWAP-like spectrum\\nwith Added Random Phases vs. Time')\n",
    "ax[2].set_xlabel('Time [s]')\n",
    "ax[2].set_ylabel('Inverse Fourier Transform of JONSWAP-like spectrum\\nwith Added Random Phases')\n",
    "\n",
    "fig.show()\n",
    "\n",
    "print(\"Observations vs. Simulations\")\n",
    "print(\"**********\")\n",
    "# differences in maximum and minimum heights for each of the seed values\n",
    "print(\"Difference in maximum heights (Seed 1):\", round(abs(np.max(seaSurface) - np.max(MprimeinvDFT1)), 2), \"m\")\n",
    "print(\"Difference in minimum heights (Seed 1):\", round(abs(np.min(seaSurface) - np.min(MprimeinvDFT1)), 2), \"m\")\n",
    "print(\"Difference in maximum heights (Seed 2):\", round(abs(np.max(seaSurface) - np.max(MprimeinvDFT2)), 2), \"m\")\n",
    "print(\"Difference in minimum heights (Seed 2):\", round(abs(np.min(seaSurface) - np.min(MprimeinvDFT2)), 2), \"m\")\n",
    "print(\"Difference in maximum heights (Seed 3):\", round(abs(np.max(seaSurface) - np.max(MprimeinvDFT3)), 2), \"m\")\n",
    "print(\"Difference in minimum heights (Seed 3):\", round(abs(np.min(seaSurface) - np.min(MprimeinvDFT3)), 2), \"m\")\n",
    "print(\"**********\")"
   ]
  },
  {
   "cell_type": "markdown",
   "id": "0671b16e-5ba5-47d8-aa4c-94c089f5dcb1",
   "metadata": {},
   "source": [
    "**Remarks:**  \n",
    "Seeding $np.random$ explicitly, gives the same results whenever the cell is executed. We note that the heights are very close when we seed $np.random$ with $45$."
   ]
  },
  {
   "cell_type": "markdown",
   "id": "a712e86f-b339-454c-b82a-09a5bdc442a1",
   "metadata": {},
   "source": [
    "### End of Solutions to Main Tasks"
   ]
  },
  {
   "cell_type": "markdown",
   "id": "686d8200-1d03-45a3-b86e-c467dc6662f4",
   "metadata": {},
   "source": [
    "## More considerations\n",
    "\n",
    "These questions are 'bonus questions'. You should not feel obliged to do them at all, and you can also obtain bonus points via good discussion of the previous points.\n",
    "\n",
    "If we plot the frequency components of the storm wind-speed, we observe that above a certain threshold no more frequencies appear. This is an artefact of the simulations - but it is also a physically valid assumption that we can ignore the high frequency components of the wind speed. Why?\n",
    "\n",
    "In task 2 we asked you to mean over the signal in frequency domain. Would it make sense to mean in time-domain and Fourier transform this mean?\n",
    "\n",
    "Could we also mean in a different way?"
   ]
  },
  {
   "cell_type": "markdown",
   "id": "da6cadf2-fac9-4a84-a99c-ea6ef38560eb",
   "metadata": {},
   "source": [
    "### Solutions to More Considerations"
   ]
  },
  {
   "cell_type": "code",
   "execution_count": null,
   "id": "169873ee-1feb-49ab-8ac1-c532cac7716c",
   "metadata": {},
   "outputs": [],
   "source": [
    "# plot wind speed DFT\n",
    "plt.plot(DFTfreq[1:], np.abs(windSpeedDFT[1:]), color = 'blue')\n",
    "plt.title('Fourier Transform of Wind Speed vs. Frequency')\n",
    "plt.xlim(0, 0.5)\n",
    "plt.xlabel('Frequency [1/s]')\n",
    "plt.ylabel('Fourier Transform of Wind Speed [m/s s]')\n",
    "plt.show()"
   ]
  },
  {
   "cell_type": "markdown",
   "id": "635fea24-d295-4984-8f0e-5ad663a60538",
   "metadata": {},
   "source": [
    "**Remarks:**  \n",
    "As mentioned, we can see that above a certain threshold no more frequencies appear. We believe that the higher frequency components of the wind are safe to neglect because most of the fundamental frequencies of the system (offshore turbine) is very small. The effect of high frequency components of the wind, therefore, must be negligible."
   ]
  },
  {
   "cell_type": "code",
   "execution_count": null,
   "id": "f696179b-04d7-4fe5-9dcf-d708aebd149c",
   "metadata": {},
   "outputs": [],
   "source": [
    "# test function - cosine(x)\n",
    "x = np.linspace(0, 2*np.pi, 10000)\n",
    "f = np.cos(x)\n",
    "n = 2\n",
    "\n",
    "# method adopted from solutions to the main taks\n",
    "tbit = x[0: n*int(len(x)/n)].reshape(n, int(len(x)/n))\n",
    "DFTfreqbit = np.fft.rfftfreq(len(tbit[0]), (tbit[0, 1] - tbit[0, 0]))\n",
    "\n",
    "fbit = f[0: n*int(len(f)/n)].reshape(n, int(len(f)/n))\n",
    "fDFT1 = np.fft.rfft(fbit)\n",
    "fDFT_abs1 = np.mean(np.abs(fDFT1), axis = 0)\n",
    "\n",
    "# modified to calculate mean of the bits and calculate the Fourier transform of the mean\n",
    "fbit_mean = np.mean(fbit, axis = 0)\n",
    "fDFT2 = np.fft.rfft(fbit_mean)\n",
    "fDFT_abs2 = np.abs(fDFT2)\n",
    "\n",
    "# plotting\n",
    "plt.plot(DFTfreqbit, fDFT_abs1, label = 'mean of F.T. of bits')\n",
    "plt.plot(DFTfreqbit, fDFT_abs2, label = 'F.T. of mean of bits')\n",
    "plt.title('Two Methods of Spectral Averaging')\n",
    "plt.xlabel('x')\n",
    "plt.xlabel('Fourier Transform of f(x)')\n",
    "plt.xlim(0, 3)\n",
    "plt.legend()\n",
    "plt.show()"
   ]
  },
  {
   "cell_type": "markdown",
   "id": "e8a6b80a-e5ce-4e0c-986a-1fe6ff45d8a7",
   "metadata": {},
   "source": [
    "**Remarks:**  \n",
    "While the Fourier transform is linear, we cannot expect the linearity to hold over averages of bits, since different phases are involved. This makes sense intuitively, for example the average of the bits of functions might destructively interfere to give a $0$ function, whose Fourier transform is not the same as the Fourier transform as the original problem. This is demonstrated in the above example, where a simple $cosine$ function is used. When $n = 2$, averaging over the two bits gives a $0$ function."
   ]
  }
 ],
 "metadata": {
  "kernelspec": {
   "display_name": "Python 3 (ipykernel)",
   "language": "python",
   "name": "python3"
  },
  "language_info": {
   "codemirror_mode": {
    "name": "ipython",
    "version": 3
   },
   "file_extension": ".py",
   "mimetype": "text/x-python",
   "name": "python",
   "nbconvert_exporter": "python",
   "pygments_lexer": "ipython3",
   "version": "3.9.10"
  }
 },
 "nbformat": 4,
 "nbformat_minor": 5
}
